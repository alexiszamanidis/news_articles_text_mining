{
 "cells": [
  {
   "cell_type": "code",
   "execution_count": 20,
   "metadata": {},
   "outputs": [],
   "source": [
    "import pandas as pd\n",
    "from nltk.tokenize import word_tokenize\n",
    "\n",
    "class preprocessing:\n",
    "\n",
    "    # tokenize_sentence: tokenizes a sentence\n",
    "    def tokenize_sentence(self, sentence):\n",
    "        words = word_tokenize(sentence)\n",
    "        return words\n",
    "\n",
    "    # tokenize_column: tokenizes a column of a dataframe and saves it as column_tokens\n",
    "    def tokenize_column(self, dataframe, column):\n",
    "        tokens = list()\n",
    "        # tokenize each element of the column\n",
    "        for index, row in dataframe.iterrows():\n",
    "            sentence_tokens = self.tokenize_sentence(dataframe.loc[index,column])\n",
    "            tokens.append(sentence_tokens)\n",
    "        # save tokens as a new column\n",
    "        dataframe[f\"{column}_tokens\"] = pd.Series(tokens,index=dataframe.index)"
   ]
  },
  {
   "cell_type": "code",
   "execution_count": 21,
   "metadata": {},
   "outputs": [
    {
     "data": {
      "text/plain": [
       "['alex', 'zam', 'papapapap']"
      ]
     },
     "execution_count": 21,
     "metadata": {},
     "output_type": "execute_result"
    }
   ],
   "source": [
    "preprocessing2 = preprocessing()\n",
    "preprocessing2.tokenize_sentence(\"alex zam papapapap\")"
   ]
  },
  {
   "cell_type": "code",
   "execution_count": 22,
   "metadata": {},
   "outputs": [
    {
     "data": {
      "text/html": [
       "<div>\n",
       "<style scoped>\n",
       "    .dataframe tbody tr th:only-of-type {\n",
       "        vertical-align: middle;\n",
       "    }\n",
       "\n",
       "    .dataframe tbody tr th {\n",
       "        vertical-align: top;\n",
       "    }\n",
       "\n",
       "    .dataframe thead th {\n",
       "        text-align: right;\n",
       "    }\n",
       "</style>\n",
       "<table border=\"1\" class=\"dataframe\">\n",
       "  <thead>\n",
       "    <tr style=\"text-align: right;\">\n",
       "      <th></th>\n",
       "      <th>id</th>\n",
       "      <th>title</th>\n",
       "      <th>content</th>\n",
       "    </tr>\n",
       "  </thead>\n",
       "  <tbody>\n",
       "    <tr>\n",
       "      <td>0</td>\n",
       "      <td>385</td>\n",
       "      <td>Tate &amp; Lyle boss bags top award\\n</td>\n",
       "      <td>\\n Tate &amp; Lyle's chief executive has been nam...</td>\n",
       "    </tr>\n",
       "    <tr>\n",
       "      <td>1</td>\n",
       "      <td>1984</td>\n",
       "      <td>Halo 2 sells five million copies\\n</td>\n",
       "      <td>\\n Microsoft is celebrating bumper sales of i...</td>\n",
       "    </tr>\n",
       "    <tr>\n",
       "      <td>2</td>\n",
       "      <td>986</td>\n",
       "      <td>MSPs hear renewed climate warning\\n</td>\n",
       "      <td>\\n Climate change could be completely out of ...</td>\n",
       "    </tr>\n",
       "    <tr>\n",
       "      <td>3</td>\n",
       "      <td>1387</td>\n",
       "      <td>Pavey focuses on indoor success\\n</td>\n",
       "      <td>\\n Jo Pavey will miss January's View From Gre...</td>\n",
       "    </tr>\n",
       "    <tr>\n",
       "      <td>4</td>\n",
       "      <td>1295</td>\n",
       "      <td>Tories reject rethink on axed MP\\n</td>\n",
       "      <td>\\n Sacked MP Howard Flight's local Conservati...</td>\n",
       "    </tr>\n",
       "  </tbody>\n",
       "</table>\n",
       "</div>"
      ],
      "text/plain": [
       "     id                                title  \\\n",
       "0   385    Tate & Lyle boss bags top award\\n   \n",
       "1  1984   Halo 2 sells five million copies\\n   \n",
       "2   986  MSPs hear renewed climate warning\\n   \n",
       "3  1387    Pavey focuses on indoor success\\n   \n",
       "4  1295   Tories reject rethink on axed MP\\n   \n",
       "\n",
       "                                             content  \n",
       "0   \\n Tate & Lyle's chief executive has been nam...  \n",
       "1   \\n Microsoft is celebrating bumper sales of i...  \n",
       "2   \\n Climate change could be completely out of ...  \n",
       "3   \\n Jo Pavey will miss January's View From Gre...  \n",
       "4   \\n Sacked MP Howard Flight's local Conservati...  "
      ]
     },
     "metadata": {},
     "output_type": "display_data"
    }
   ],
   "source": [
    "test_set  = pd.read_csv(\"./data_sets/test_set.tsv\", delimiter=\"\\t\",names=[\"id\",\"title\",\"content\"],           header=0)\n",
    "display(test_set.head(5))"
   ]
  },
  {
   "cell_type": "code",
   "execution_count": 23,
   "metadata": {},
   "outputs": [
    {
     "data": {
      "text/html": [
       "<div>\n",
       "<style scoped>\n",
       "    .dataframe tbody tr th:only-of-type {\n",
       "        vertical-align: middle;\n",
       "    }\n",
       "\n",
       "    .dataframe tbody tr th {\n",
       "        vertical-align: top;\n",
       "    }\n",
       "\n",
       "    .dataframe thead th {\n",
       "        text-align: right;\n",
       "    }\n",
       "</style>\n",
       "<table border=\"1\" class=\"dataframe\">\n",
       "  <thead>\n",
       "    <tr style=\"text-align: right;\">\n",
       "      <th></th>\n",
       "      <th>id</th>\n",
       "      <th>title</th>\n",
       "      <th>content</th>\n",
       "      <th>content_tokens</th>\n",
       "    </tr>\n",
       "  </thead>\n",
       "  <tbody>\n",
       "    <tr>\n",
       "      <td>0</td>\n",
       "      <td>385</td>\n",
       "      <td>Tate &amp; Lyle boss bags top award\\n</td>\n",
       "      <td>\\n Tate &amp; Lyle's chief executive has been nam...</td>\n",
       "      <td>[Tate, &amp;, Lyle, 's, chief, executive, has, bee...</td>\n",
       "    </tr>\n",
       "    <tr>\n",
       "      <td>1</td>\n",
       "      <td>1984</td>\n",
       "      <td>Halo 2 sells five million copies\\n</td>\n",
       "      <td>\\n Microsoft is celebrating bumper sales of i...</td>\n",
       "      <td>[Microsoft, is, celebrating, bumper, sales, of...</td>\n",
       "    </tr>\n",
       "    <tr>\n",
       "      <td>2</td>\n",
       "      <td>986</td>\n",
       "      <td>MSPs hear renewed climate warning\\n</td>\n",
       "      <td>\\n Climate change could be completely out of ...</td>\n",
       "      <td>[Climate, change, could, be, completely, out, ...</td>\n",
       "    </tr>\n",
       "    <tr>\n",
       "      <td>3</td>\n",
       "      <td>1387</td>\n",
       "      <td>Pavey focuses on indoor success\\n</td>\n",
       "      <td>\\n Jo Pavey will miss January's View From Gre...</td>\n",
       "      <td>[Jo, Pavey, will, miss, January, 's, View, Fro...</td>\n",
       "    </tr>\n",
       "    <tr>\n",
       "      <td>4</td>\n",
       "      <td>1295</td>\n",
       "      <td>Tories reject rethink on axed MP\\n</td>\n",
       "      <td>\\n Sacked MP Howard Flight's local Conservati...</td>\n",
       "      <td>[Sacked, MP, Howard, Flight, 's, local, Conser...</td>\n",
       "    </tr>\n",
       "  </tbody>\n",
       "</table>\n",
       "</div>"
      ],
      "text/plain": [
       "     id                                title  \\\n",
       "0   385    Tate & Lyle boss bags top award\\n   \n",
       "1  1984   Halo 2 sells five million copies\\n   \n",
       "2   986  MSPs hear renewed climate warning\\n   \n",
       "3  1387    Pavey focuses on indoor success\\n   \n",
       "4  1295   Tories reject rethink on axed MP\\n   \n",
       "\n",
       "                                             content  \\\n",
       "0   \\n Tate & Lyle's chief executive has been nam...   \n",
       "1   \\n Microsoft is celebrating bumper sales of i...   \n",
       "2   \\n Climate change could be completely out of ...   \n",
       "3   \\n Jo Pavey will miss January's View From Gre...   \n",
       "4   \\n Sacked MP Howard Flight's local Conservati...   \n",
       "\n",
       "                                      content_tokens  \n",
       "0  [Tate, &, Lyle, 's, chief, executive, has, bee...  \n",
       "1  [Microsoft, is, celebrating, bumper, sales, of...  \n",
       "2  [Climate, change, could, be, completely, out, ...  \n",
       "3  [Jo, Pavey, will, miss, January, 's, View, Fro...  \n",
       "4  [Sacked, MP, Howard, Flight, 's, local, Conser...  "
      ]
     },
     "metadata": {},
     "output_type": "display_data"
    }
   ],
   "source": [
    "preprocessing2.tokenize_column(test_set,\"content\")\n",
    "display(test_set.head(5))"
   ]
  },
  {
   "cell_type": "code",
   "execution_count": null,
   "metadata": {},
   "outputs": [],
   "source": []
  }
 ],
 "metadata": {
  "kernelspec": {
   "display_name": "Python 3",
   "language": "python",
   "name": "python3"
  },
  "language_info": {
   "codemirror_mode": {
    "name": "ipython",
    "version": 3
   },
   "file_extension": ".py",
   "mimetype": "text/x-python",
   "name": "python",
   "nbconvert_exporter": "python",
   "pygments_lexer": "ipython3",
   "version": "3.7.4"
  }
 },
 "nbformat": 4,
 "nbformat_minor": 2
}
