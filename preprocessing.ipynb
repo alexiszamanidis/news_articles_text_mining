{
 "cells": [
  {
   "cell_type": "code",
   "execution_count": 82,
   "metadata": {},
   "outputs": [],
   "source": [
    "import re\n",
    "import pandas as pd\n",
    "from collections import Counter\n",
    "from nltk.corpus import stopwords\n",
    "from nltk.tokenize import word_tokenize\n",
    "\n",
    "class preprocessing:\n",
    "\n",
    "    # tokenize_sentence: tokenizes a sentence\n",
    "    def tokenize_sentence(self, sentence):\n",
    "        words = word_tokenize(sentence)\n",
    "        return words\n",
    "\n",
    "    # tokenize_column: tokenizes a column of a dataframe and saves it as column_tokens\n",
    "    def tokenize_column(self, dataframe, column):\n",
    "        tokens = list()\n",
    "        # tokenize each element of the column\n",
    "        for index, row in dataframe.iterrows():\n",
    "            sentence_tokens = self.tokenize_sentence(dataframe.loc[index,column])\n",
    "            tokens.append(sentence_tokens)\n",
    "        # save tokens as a new column\n",
    "        dataframe[f\"{column}_tokens\"] = pd.Series(tokens, index=dataframe.index)\n",
    "\n",
    "    # clean_sentence: cleans a sentence\n",
    "    def clean_sentence(self, sentence):\n",
    "        sentence = re.sub(\"[^a-zA-z\\s]\", \"\", sentence) # remove special characters\n",
    "        sentence = re.sub(\"_\", \"\", sentence)\n",
    "        sentence = re.sub(\"\\s+\", \" \",sentence)         # change any white space to one space\n",
    "        sentence = sentence.strip()                    # remove start and end white spaces\n",
    "        sentence = sentence.lower()                    # convert sentence into lower case\n",
    "        return sentence\n",
    "    \n",
    "    # remove_stop_words_from_sentence: removes stop words fast using dictionary\n",
    "    def remove_stop_words_from_sentence(self, sentence, more_stop_words = []):\n",
    "        stop_words = stopwords.words(\"english\") + more_stop_words\n",
    "        stopwords_dictionary = Counter(stop_words)\n",
    "        sentence = \" \".join([word for word in sentence.split() if word not in stopwords_dictionary])\n",
    "        return sentence\n",
    "\n",
    "    # clean_column: cleans a dataframe column from symbols, removes stop words and saves it as clean_column\n",
    "    def clean_column(self, dataframe, column, more_stop_words = []):\n",
    "        # clean and remove each element of the column\n",
    "        for index, row in dataframe.iterrows():\n",
    "            dataframe.loc[index,f\"clean_{column}\"] = self.clean_sentence(dataframe.loc[index,column])\n",
    "            dataframe.loc[index,f\"clean_{column}\"] = self.remove_stop_words_from_sentence(dataframe.loc[index,f\"clean_{column}\"], more_stop_words)"
   ]
  },
  {
   "cell_type": "code",
   "execution_count": 83,
   "metadata": {},
   "outputs": [
    {
     "data": {
      "text/plain": [
       "['alex', 'zam', 'papapapap']"
      ]
     },
     "execution_count": 83,
     "metadata": {},
     "output_type": "execute_result"
    }
   ],
   "source": [
    "preprocessing2 = preprocessing()\n",
    "preprocessing2.tokenize_sentence(\"alex zam papapapap\")"
   ]
  },
  {
   "cell_type": "code",
   "execution_count": 84,
   "metadata": {},
   "outputs": [
    {
     "data": {
      "text/html": [
       "<div>\n",
       "<style scoped>\n",
       "    .dataframe tbody tr th:only-of-type {\n",
       "        vertical-align: middle;\n",
       "    }\n",
       "\n",
       "    .dataframe tbody tr th {\n",
       "        vertical-align: top;\n",
       "    }\n",
       "\n",
       "    .dataframe thead th {\n",
       "        text-align: right;\n",
       "    }\n",
       "</style>\n",
       "<table border=\"1\" class=\"dataframe\">\n",
       "  <thead>\n",
       "    <tr style=\"text-align: right;\">\n",
       "      <th></th>\n",
       "      <th>id</th>\n",
       "      <th>title</th>\n",
       "      <th>content</th>\n",
       "    </tr>\n",
       "  </thead>\n",
       "  <tbody>\n",
       "    <tr>\n",
       "      <td>0</td>\n",
       "      <td>385</td>\n",
       "      <td>Tate &amp; Lyle boss bags top award\\n</td>\n",
       "      <td>\\n Tate &amp; Lyle's chief executive has been nam...</td>\n",
       "    </tr>\n",
       "    <tr>\n",
       "      <td>1</td>\n",
       "      <td>1984</td>\n",
       "      <td>Halo 2 sells five million copies\\n</td>\n",
       "      <td>\\n Microsoft is celebrating bumper sales of i...</td>\n",
       "    </tr>\n",
       "    <tr>\n",
       "      <td>2</td>\n",
       "      <td>986</td>\n",
       "      <td>MSPs hear renewed climate warning\\n</td>\n",
       "      <td>\\n Climate change could be completely out of ...</td>\n",
       "    </tr>\n",
       "    <tr>\n",
       "      <td>3</td>\n",
       "      <td>1387</td>\n",
       "      <td>Pavey focuses on indoor success\\n</td>\n",
       "      <td>\\n Jo Pavey will miss January's View From Gre...</td>\n",
       "    </tr>\n",
       "    <tr>\n",
       "      <td>4</td>\n",
       "      <td>1295</td>\n",
       "      <td>Tories reject rethink on axed MP\\n</td>\n",
       "      <td>\\n Sacked MP Howard Flight's local Conservati...</td>\n",
       "    </tr>\n",
       "  </tbody>\n",
       "</table>\n",
       "</div>"
      ],
      "text/plain": [
       "     id                                title  \\\n",
       "0   385    Tate & Lyle boss bags top award\\n   \n",
       "1  1984   Halo 2 sells five million copies\\n   \n",
       "2   986  MSPs hear renewed climate warning\\n   \n",
       "3  1387    Pavey focuses on indoor success\\n   \n",
       "4  1295   Tories reject rethink on axed MP\\n   \n",
       "\n",
       "                                             content  \n",
       "0   \\n Tate & Lyle's chief executive has been nam...  \n",
       "1   \\n Microsoft is celebrating bumper sales of i...  \n",
       "2   \\n Climate change could be completely out of ...  \n",
       "3   \\n Jo Pavey will miss January's View From Gre...  \n",
       "4   \\n Sacked MP Howard Flight's local Conservati...  "
      ]
     },
     "metadata": {},
     "output_type": "display_data"
    }
   ],
   "source": [
    "test_set  = pd.read_csv(\"./data_sets/test_set.tsv\", delimiter=\"\\t\",names=[\"id\",\"title\",\"content\"],           header=0)\n",
    "display(test_set.head(5))"
   ]
  },
  {
   "cell_type": "code",
   "execution_count": 85,
   "metadata": {},
   "outputs": [
    {
     "data": {
      "text/html": [
       "<div>\n",
       "<style scoped>\n",
       "    .dataframe tbody tr th:only-of-type {\n",
       "        vertical-align: middle;\n",
       "    }\n",
       "\n",
       "    .dataframe tbody tr th {\n",
       "        vertical-align: top;\n",
       "    }\n",
       "\n",
       "    .dataframe thead th {\n",
       "        text-align: right;\n",
       "    }\n",
       "</style>\n",
       "<table border=\"1\" class=\"dataframe\">\n",
       "  <thead>\n",
       "    <tr style=\"text-align: right;\">\n",
       "      <th></th>\n",
       "      <th>id</th>\n",
       "      <th>title</th>\n",
       "      <th>content</th>\n",
       "      <th>content_tokens</th>\n",
       "    </tr>\n",
       "  </thead>\n",
       "  <tbody>\n",
       "    <tr>\n",
       "      <td>0</td>\n",
       "      <td>385</td>\n",
       "      <td>Tate &amp; Lyle boss bags top award\\n</td>\n",
       "      <td>\\n Tate &amp; Lyle's chief executive has been nam...</td>\n",
       "      <td>[Tate, &amp;, Lyle, 's, chief, executive, has, bee...</td>\n",
       "    </tr>\n",
       "    <tr>\n",
       "      <td>1</td>\n",
       "      <td>1984</td>\n",
       "      <td>Halo 2 sells five million copies\\n</td>\n",
       "      <td>\\n Microsoft is celebrating bumper sales of i...</td>\n",
       "      <td>[Microsoft, is, celebrating, bumper, sales, of...</td>\n",
       "    </tr>\n",
       "    <tr>\n",
       "      <td>2</td>\n",
       "      <td>986</td>\n",
       "      <td>MSPs hear renewed climate warning\\n</td>\n",
       "      <td>\\n Climate change could be completely out of ...</td>\n",
       "      <td>[Climate, change, could, be, completely, out, ...</td>\n",
       "    </tr>\n",
       "    <tr>\n",
       "      <td>3</td>\n",
       "      <td>1387</td>\n",
       "      <td>Pavey focuses on indoor success\\n</td>\n",
       "      <td>\\n Jo Pavey will miss January's View From Gre...</td>\n",
       "      <td>[Jo, Pavey, will, miss, January, 's, View, Fro...</td>\n",
       "    </tr>\n",
       "    <tr>\n",
       "      <td>4</td>\n",
       "      <td>1295</td>\n",
       "      <td>Tories reject rethink on axed MP\\n</td>\n",
       "      <td>\\n Sacked MP Howard Flight's local Conservati...</td>\n",
       "      <td>[Sacked, MP, Howard, Flight, 's, local, Conser...</td>\n",
       "    </tr>\n",
       "  </tbody>\n",
       "</table>\n",
       "</div>"
      ],
      "text/plain": [
       "     id                                title  \\\n",
       "0   385    Tate & Lyle boss bags top award\\n   \n",
       "1  1984   Halo 2 sells five million copies\\n   \n",
       "2   986  MSPs hear renewed climate warning\\n   \n",
       "3  1387    Pavey focuses on indoor success\\n   \n",
       "4  1295   Tories reject rethink on axed MP\\n   \n",
       "\n",
       "                                             content  \\\n",
       "0   \\n Tate & Lyle's chief executive has been nam...   \n",
       "1   \\n Microsoft is celebrating bumper sales of i...   \n",
       "2   \\n Climate change could be completely out of ...   \n",
       "3   \\n Jo Pavey will miss January's View From Gre...   \n",
       "4   \\n Sacked MP Howard Flight's local Conservati...   \n",
       "\n",
       "                                      content_tokens  \n",
       "0  [Tate, &, Lyle, 's, chief, executive, has, bee...  \n",
       "1  [Microsoft, is, celebrating, bumper, sales, of...  \n",
       "2  [Climate, change, could, be, completely, out, ...  \n",
       "3  [Jo, Pavey, will, miss, January, 's, View, Fro...  \n",
       "4  [Sacked, MP, Howard, Flight, 's, local, Conser...  "
      ]
     },
     "metadata": {},
     "output_type": "display_data"
    }
   ],
   "source": [
    "preprocessing2.tokenize_column(test_set,\"content\")\n",
    "display(test_set.head(5))"
   ]
  },
  {
   "cell_type": "code",
   "execution_count": 86,
   "metadata": {},
   "outputs": [
    {
     "data": {
      "text/plain": [
       "'tate lyle boss bags top award'"
      ]
     },
     "execution_count": 86,
     "metadata": {},
     "output_type": "execute_result"
    }
   ],
   "source": [
    "preprocessing2.clean_sentence(\"Tate & Lyle boss bags top award\\n\")"
   ]
  },
  {
   "cell_type": "code",
   "execution_count": 87,
   "metadata": {},
   "outputs": [
    {
     "data": {
      "text/plain": [
       "'apple papapap'"
      ]
     },
     "execution_count": 87,
     "metadata": {},
     "output_type": "execute_result"
    }
   ],
   "source": [
    "preprocessing2.remove_stop_words_from_sentence(\"this is an apple papapap\")"
   ]
  },
  {
   "cell_type": "code",
   "execution_count": 88,
   "metadata": {},
   "outputs": [
    {
     "data": {
      "text/plain": [
       "'papapap'"
      ]
     },
     "execution_count": 88,
     "metadata": {},
     "output_type": "execute_result"
    }
   ],
   "source": [
    "more_stop_words = [\"apple\"]\n",
    "preprocessing2.remove_stop_words_from_sentence(\"this is an apple papapap\",more_stop_words)"
   ]
  },
  {
   "cell_type": "code",
   "execution_count": 90,
   "metadata": {},
   "outputs": [
    {
     "data": {
      "text/html": [
       "<div>\n",
       "<style scoped>\n",
       "    .dataframe tbody tr th:only-of-type {\n",
       "        vertical-align: middle;\n",
       "    }\n",
       "\n",
       "    .dataframe tbody tr th {\n",
       "        vertical-align: top;\n",
       "    }\n",
       "\n",
       "    .dataframe thead th {\n",
       "        text-align: right;\n",
       "    }\n",
       "</style>\n",
       "<table border=\"1\" class=\"dataframe\">\n",
       "  <thead>\n",
       "    <tr style=\"text-align: right;\">\n",
       "      <th></th>\n",
       "      <th>id</th>\n",
       "      <th>title</th>\n",
       "      <th>content</th>\n",
       "      <th>content_tokens</th>\n",
       "      <th>clean_content</th>\n",
       "    </tr>\n",
       "  </thead>\n",
       "  <tbody>\n",
       "    <tr>\n",
       "      <td>0</td>\n",
       "      <td>385</td>\n",
       "      <td>Tate &amp; Lyle boss bags top award\\n</td>\n",
       "      <td>\\n Tate &amp; Lyle's chief executive has been nam...</td>\n",
       "      <td>[Tate, &amp;, Lyle, 's, chief, executive, has, bee...</td>\n",
       "      <td>lyles chief executive named european businessm...</td>\n",
       "    </tr>\n",
       "    <tr>\n",
       "      <td>1</td>\n",
       "      <td>1984</td>\n",
       "      <td>Halo 2 sells five million copies\\n</td>\n",
       "      <td>\\n Microsoft is celebrating bumper sales of i...</td>\n",
       "      <td>[Microsoft, is, celebrating, bumper, sales, of...</td>\n",
       "      <td>microsoft celebrating bumper sales xbox scifi ...</td>\n",
       "    </tr>\n",
       "    <tr>\n",
       "      <td>2</td>\n",
       "      <td>986</td>\n",
       "      <td>MSPs hear renewed climate warning\\n</td>\n",
       "      <td>\\n Climate change could be completely out of ...</td>\n",
       "      <td>[Climate, change, could, be, completely, out, ...</td>\n",
       "      <td>climate change could completely control within...</td>\n",
       "    </tr>\n",
       "    <tr>\n",
       "      <td>3</td>\n",
       "      <td>1387</td>\n",
       "      <td>Pavey focuses on indoor success\\n</td>\n",
       "      <td>\\n Jo Pavey will miss January's View From Gre...</td>\n",
       "      <td>[Jo, Pavey, will, miss, January, 's, View, Fro...</td>\n",
       "      <td>jo pavey miss januarys view great edinburgh in...</td>\n",
       "    </tr>\n",
       "    <tr>\n",
       "      <td>4</td>\n",
       "      <td>1295</td>\n",
       "      <td>Tories reject rethink on axed MP\\n</td>\n",
       "      <td>\\n Sacked MP Howard Flight's local Conservati...</td>\n",
       "      <td>[Sacked, MP, Howard, Flight, 's, local, Conser...</td>\n",
       "      <td>sacked mp howard flights local conservative as...</td>\n",
       "    </tr>\n",
       "  </tbody>\n",
       "</table>\n",
       "</div>"
      ],
      "text/plain": [
       "     id                                title  \\\n",
       "0   385    Tate & Lyle boss bags top award\\n   \n",
       "1  1984   Halo 2 sells five million copies\\n   \n",
       "2   986  MSPs hear renewed climate warning\\n   \n",
       "3  1387    Pavey focuses on indoor success\\n   \n",
       "4  1295   Tories reject rethink on axed MP\\n   \n",
       "\n",
       "                                             content  \\\n",
       "0   \\n Tate & Lyle's chief executive has been nam...   \n",
       "1   \\n Microsoft is celebrating bumper sales of i...   \n",
       "2   \\n Climate change could be completely out of ...   \n",
       "3   \\n Jo Pavey will miss January's View From Gre...   \n",
       "4   \\n Sacked MP Howard Flight's local Conservati...   \n",
       "\n",
       "                                      content_tokens  \\\n",
       "0  [Tate, &, Lyle, 's, chief, executive, has, bee...   \n",
       "1  [Microsoft, is, celebrating, bumper, sales, of...   \n",
       "2  [Climate, change, could, be, completely, out, ...   \n",
       "3  [Jo, Pavey, will, miss, January, 's, View, Fro...   \n",
       "4  [Sacked, MP, Howard, Flight, 's, local, Conser...   \n",
       "\n",
       "                                       clean_content  \n",
       "0  lyles chief executive named european businessm...  \n",
       "1  microsoft celebrating bumper sales xbox scifi ...  \n",
       "2  climate change could completely control within...  \n",
       "3  jo pavey miss januarys view great edinburgh in...  \n",
       "4  sacked mp howard flights local conservative as...  "
      ]
     },
     "metadata": {},
     "output_type": "display_data"
    }
   ],
   "source": [
    "preprocessing2.clean_column(test_set,\"content\",[\"tate\"])\n",
    "display(test_set.head(5))"
   ]
  },
  {
   "cell_type": "code",
   "execution_count": null,
   "metadata": {},
   "outputs": [],
   "source": []
  },
  {
   "cell_type": "code",
   "execution_count": null,
   "metadata": {},
   "outputs": [],
   "source": []
  }
 ],
 "metadata": {
  "kernelspec": {
   "display_name": "Python 3",
   "language": "python",
   "name": "python3"
  },
  "language_info": {
   "codemirror_mode": {
    "name": "ipython",
    "version": 3
   },
   "file_extension": ".py",
   "mimetype": "text/x-python",
   "name": "python",
   "nbconvert_exporter": "python",
   "pygments_lexer": "ipython3",
   "version": "3.7.4"
  }
 },
 "nbformat": 4,
 "nbformat_minor": 2
}
