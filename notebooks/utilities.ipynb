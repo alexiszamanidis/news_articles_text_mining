{
 "cells": [
  {
   "cell_type": "code",
   "execution_count": 1,
   "metadata": {},
   "outputs": [],
   "source": [
    "import os\n",
    "import numpy as np\n",
    "import pandas as pd\n",
    "from datetime import datetime\n",
    "\n",
    "\"\"\"\n",
    "create_directory: creates a directory if it does not exists\n",
    "                        \n",
    "arguments:\n",
    "    directory_name: string\n",
    "\"\"\"\n",
    "def create_directory(directory_name):\n",
    "    if not os.path.exists(directory_name):\n",
    "        os.mkdir(directory_name)\n",
    "\n",
    "\"\"\"\n",
    "unify_column: unifies a column of a dataframe\n",
    "\n",
    "arguments:\n",
    "    dataframe: pandas dataframe\n",
    "    column:    string\n",
    "\"\"\"\n",
    "def unify_column(dataframe, column):\n",
    "    union = list()\n",
    "    for index, row in dataframe.iterrows():\n",
    "        union.append(dataframe.loc[index,column])\n",
    "    return np.asarray(union)\n",
    "\n",
    "\"\"\"\n",
    "timer: calculates time spent\n",
    "\n",
    "arguments:\n",
    "    start_time: None or datetime object\n",
    "\"\"\"\n",
    "def timer(start_time = None):\n",
    "    if start_time is None:\n",
    "        start_time = datetime.now()\n",
    "        return start_time\n",
    "    else:\n",
    "        hours, temp_seconds = divmod((datetime.now() - start_time).total_seconds(), 3600)\n",
    "        minutes, seconds = divmod(temp_seconds, 60)\n",
    "        display(f\"Time spent: {int(hours)}:{int(minutes)}:{int(seconds)}\")"
   ]
  }
 ],
 "metadata": {
  "kernelspec": {
   "display_name": "Python 3",
   "language": "python",
   "name": "python3"
  },
  "language_info": {
   "codemirror_mode": {
    "name": "ipython",
    "version": 3
   },
   "file_extension": ".py",
   "mimetype": "text/x-python",
   "name": "python",
   "nbconvert_exporter": "python",
   "pygments_lexer": "ipython3",
   "version": "3.7.4"
  }
 },
 "nbformat": 4,
 "nbformat_minor": 2
}
