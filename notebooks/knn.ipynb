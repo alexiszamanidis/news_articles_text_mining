{
 "cells": [
  {
   "cell_type": "markdown",
   "metadata": {},
   "source": [
    "#### Knn\n",
    "\n",
    "A k-nearest-neighbor algorithm, often abbreviated k-nn, is an approach to data classification that estimates how likely a data point is to be a member of one group or the other depending on what group the data points nearest to it are in.\n",
    "\n",
    "I used cosine_distances for the calculation of the distances between the documents. Also, I used heap for storing the distances, because i wanted to make it faster. Heap in python uses a MIN heap functionality, so I multiply the distance with -1, so I can use a max heap functionlity. Also, I keep in the heap only K elements."
   ]
  },
  {
   "cell_type": "code",
   "execution_count": 19,
   "metadata": {},
   "outputs": [],
   "source": [
    "import heapq\n",
    "from heapq import heappop\n",
    "from heapq import heappush\n",
    "from collections import Counter\n",
    "from sklearn.metrics.pairwise import cosine_distances\n",
    "\n",
    "class knn:\n",
    "    def __init__(self, k=5):\n",
    "        self.k = k\n",
    "        self.X_train = None\n",
    "        self.y_train = None\n",
    "\n",
    "    def fit(self, X_train, y_train):\n",
    "        self.X_train = X_train\n",
    "        self.y_train = y_train\n",
    "        \n",
    "    def predict(self, X_test):\n",
    "        predictions = []\n",
    "        # for every test set document\n",
    "        for x in X_test:\n",
    "            # predict the category\n",
    "            category_prediction = self.__predict(x)\n",
    "            # store the category we just predict to predictions list\n",
    "            predictions.append(category_prediction)\n",
    "        predictions = np.asarray(predictions)\n",
    "        return predictions\n",
    "\n",
    "    def __predict(self, X_test):\n",
    "        heap = []\n",
    "        heapq.heapify(heap)\n",
    "        # for every train set document\n",
    "        for i, x in enumerate(self.X_train):\n",
    "            # caclulate the distance from the current test document\n",
    "            distance = cosine_distances(X_test, x)\n",
    "            distance = distance[0][0]\n",
    "            heappush(heap, ((-1)*distance, i))\n",
    "            if len(heap) > self.k:\n",
    "                heappop(heap)\n",
    "        # make a list of the K most common neighbours/categories\n",
    "        most_common_categories = []\n",
    "        for i in range(self.k):\n",
    "            index = heappop(heap)[1]\n",
    "            most_common_categories.append(self.y_train[index])\n",
    "        # get most common category\n",
    "        most_common_category = Counter(most_common_categories).most_common(1)[0][0]\n",
    "        return most_common_category"
   ]
  }
 ],
 "metadata": {
  "kernelspec": {
   "display_name": "Python 3",
   "language": "python",
   "name": "python3"
  },
  "language_info": {
   "codemirror_mode": {
    "name": "ipython",
    "version": 3
   },
   "file_extension": ".py",
   "mimetype": "text/x-python",
   "name": "python",
   "nbconvert_exporter": "python",
   "pygments_lexer": "ipython3",
   "version": "3.7.4"
  }
 },
 "nbformat": 4,
 "nbformat_minor": 2
}
