{
 "cells": [
  {
   "cell_type": "markdown",
   "metadata": {},
   "source": [
    "#### Create dataframe of all documents"
   ]
  },
  {
   "cell_type": "code",
   "execution_count": 1,
   "metadata": {},
   "outputs": [
    {
     "name": "stdout",
     "output_type": "stream",
     "text": [
      "importing Jupyter notebook from utilities.ipynb\n"
     ]
    },
    {
     "data": {
      "text/plain": [
       "(2225, 4)"
      ]
     },
     "metadata": {},
     "output_type": "display_data"
    },
    {
     "data": {
      "text/html": [
       "<div>\n",
       "<style scoped>\n",
       "    .dataframe tbody tr th:only-of-type {\n",
       "        vertical-align: middle;\n",
       "    }\n",
       "\n",
       "    .dataframe tbody tr th {\n",
       "        vertical-align: top;\n",
       "    }\n",
       "\n",
       "    .dataframe thead th {\n",
       "        text-align: right;\n",
       "    }\n",
       "</style>\n",
       "<table border=\"1\" class=\"dataframe\">\n",
       "  <thead>\n",
       "    <tr style=\"text-align: right;\">\n",
       "      <th></th>\n",
       "      <th>id</th>\n",
       "      <th>title</th>\n",
       "      <th>content</th>\n",
       "      <th>category</th>\n",
       "    </tr>\n",
       "  </thead>\n",
       "  <tbody>\n",
       "    <tr>\n",
       "      <td>0</td>\n",
       "      <td>1</td>\n",
       "      <td>Ad sales boost Time Warner profit\\n</td>\n",
       "      <td>\\n Quarterly profits at US media giant TimeWa...</td>\n",
       "      <td>business</td>\n",
       "    </tr>\n",
       "    <tr>\n",
       "      <td>1</td>\n",
       "      <td>2</td>\n",
       "      <td>Dollar gains on Greenspan speech\\n</td>\n",
       "      <td>\\n The dollar has hit its highest level again...</td>\n",
       "      <td>business</td>\n",
       "    </tr>\n",
       "    <tr>\n",
       "      <td>2</td>\n",
       "      <td>3</td>\n",
       "      <td>Yukos unit buyer faces loan claim\\n</td>\n",
       "      <td>\\n The owners of embattled Russian oil giant ...</td>\n",
       "      <td>business</td>\n",
       "    </tr>\n",
       "    <tr>\n",
       "      <td>3</td>\n",
       "      <td>4</td>\n",
       "      <td>High fuel prices hit BA's profits\\n</td>\n",
       "      <td>\\n British Airways has blamed high fuel price...</td>\n",
       "      <td>business</td>\n",
       "    </tr>\n",
       "    <tr>\n",
       "      <td>4</td>\n",
       "      <td>5</td>\n",
       "      <td>Pernod takeover talk lifts Domecq\\n</td>\n",
       "      <td>\\n Shares in UK drinks and food firm Allied D...</td>\n",
       "      <td>business</td>\n",
       "    </tr>\n",
       "  </tbody>\n",
       "</table>\n",
       "</div>"
      ],
      "text/plain": [
       "   id                                title  \\\n",
       "0   1  Ad sales boost Time Warner profit\\n   \n",
       "1   2   Dollar gains on Greenspan speech\\n   \n",
       "2   3  Yukos unit buyer faces loan claim\\n   \n",
       "3   4  High fuel prices hit BA's profits\\n   \n",
       "4   5  Pernod takeover talk lifts Domecq\\n   \n",
       "\n",
       "                                             content  category  \n",
       "0   \\n Quarterly profits at US media giant TimeWa...  business  \n",
       "1   \\n The dollar has hit its highest level again...  business  \n",
       "2   \\n The owners of embattled Russian oil giant ...  business  \n",
       "3   \\n British Airways has blamed high fuel price...  business  \n",
       "4   \\n Shares in UK drinks and food firm Allied D...  business  "
      ]
     },
     "metadata": {},
     "output_type": "display_data"
    }
   ],
   "source": [
    "import os\n",
    "import pandas as pd\n",
    "import matplotlib.pyplot as plt\n",
    "\n",
    "import import_ipynb\n",
    "from utilities import create_directory\n",
    "\n",
    "# create a directory for data sets\n",
    "create_directory(\"../data_sets\")\n",
    "\n",
    "data_sets_directory = \"../data_sets\"\n",
    "documents_directory = \"../news_data\"\n",
    "ids = list()\n",
    "titles = list()\n",
    "contents = list()\n",
    "categories = list()\n",
    "\n",
    "# for all directories\n",
    "for directory in os.listdir(documents_directory):\n",
    "    if os.path.isdir(f\"{documents_directory}/{directory}/\"):\n",
    "        # for files in each directory\n",
    "        for file in os.listdir(f\"{documents_directory}/{directory}/\"):\n",
    "            if file.endswith(\".txt\"):\n",
    "                ids.append(len(ids) + 1)\n",
    "                f = open(f\"{documents_directory}/{directory}/{file}\")\n",
    "                lines = f.readlines()\n",
    "                titles.append(lines[0])\n",
    "                content = \"\"\n",
    "                for line in lines[1:]:\n",
    "                    content = content + \" \" + line\n",
    "                contents.append(content)\n",
    "                categories.append(directory)\n",
    "\n",
    "# create dataframe\n",
    "data_set = pd.DataFrame(columns = [\"id\",\"title\",\"content\",\"category\"])\n",
    "data_set[\"id\"] = ids\n",
    "data_set[\"title\"] = titles\n",
    "data_set[\"content\"] = contents\n",
    "data_set[\"category\"] = categories\n",
    "\n",
    "# display dataframe\n",
    "display(data_set.shape, data_set.head(5))"
   ]
  },
  {
   "cell_type": "markdown",
   "metadata": {},
   "source": [
    "#### Display five random samples"
   ]
  },
  {
   "cell_type": "code",
   "execution_count": 2,
   "metadata": {},
   "outputs": [
    {
     "data": {
      "text/html": [
       "<div>\n",
       "<style scoped>\n",
       "    .dataframe tbody tr th:only-of-type {\n",
       "        vertical-align: middle;\n",
       "    }\n",
       "\n",
       "    .dataframe tbody tr th {\n",
       "        vertical-align: top;\n",
       "    }\n",
       "\n",
       "    .dataframe thead th {\n",
       "        text-align: right;\n",
       "    }\n",
       "</style>\n",
       "<table border=\"1\" class=\"dataframe\">\n",
       "  <thead>\n",
       "    <tr style=\"text-align: right;\">\n",
       "      <th></th>\n",
       "      <th>id</th>\n",
       "      <th>title</th>\n",
       "      <th>content</th>\n",
       "      <th>category</th>\n",
       "    </tr>\n",
       "  </thead>\n",
       "  <tbody>\n",
       "    <tr>\n",
       "      <td>384</td>\n",
       "      <td>385</td>\n",
       "      <td>Tate &amp; Lyle boss bags top award\\n</td>\n",
       "      <td>\\n Tate &amp; Lyle's chief executive has been nam...</td>\n",
       "      <td>business</td>\n",
       "    </tr>\n",
       "    <tr>\n",
       "      <td>1983</td>\n",
       "      <td>1984</td>\n",
       "      <td>Halo 2 sells five million copies\\n</td>\n",
       "      <td>\\n Microsoft is celebrating bumper sales of i...</td>\n",
       "      <td>tech</td>\n",
       "    </tr>\n",
       "    <tr>\n",
       "      <td>985</td>\n",
       "      <td>986</td>\n",
       "      <td>MSPs hear renewed climate warning\\n</td>\n",
       "      <td>\\n Climate change could be completely out of ...</td>\n",
       "      <td>politics</td>\n",
       "    </tr>\n",
       "    <tr>\n",
       "      <td>1386</td>\n",
       "      <td>1387</td>\n",
       "      <td>Pavey focuses on indoor success\\n</td>\n",
       "      <td>\\n Jo Pavey will miss January's View From Gre...</td>\n",
       "      <td>sport</td>\n",
       "    </tr>\n",
       "    <tr>\n",
       "      <td>1294</td>\n",
       "      <td>1295</td>\n",
       "      <td>Tories reject rethink on axed MP\\n</td>\n",
       "      <td>\\n Sacked MP Howard Flight's local Conservati...</td>\n",
       "      <td>politics</td>\n",
       "    </tr>\n",
       "  </tbody>\n",
       "</table>\n",
       "</div>"
      ],
      "text/plain": [
       "        id                                title  \\\n",
       "384    385    Tate & Lyle boss bags top award\\n   \n",
       "1983  1984   Halo 2 sells five million copies\\n   \n",
       "985    986  MSPs hear renewed climate warning\\n   \n",
       "1386  1387    Pavey focuses on indoor success\\n   \n",
       "1294  1295   Tories reject rethink on axed MP\\n   \n",
       "\n",
       "                                                content  category  \n",
       "384    \\n Tate & Lyle's chief executive has been nam...  business  \n",
       "1983   \\n Microsoft is celebrating bumper sales of i...      tech  \n",
       "985    \\n Climate change could be completely out of ...  politics  \n",
       "1386   \\n Jo Pavey will miss January's View From Gre...     sport  \n",
       "1294   \\n Sacked MP Howard Flight's local Conservati...  politics  "
      ]
     },
     "execution_count": 2,
     "metadata": {},
     "output_type": "execute_result"
    }
   ],
   "source": [
    "data_set.sample(5, random_state = 0)"
   ]
  },
  {
   "cell_type": "markdown",
   "metadata": {},
   "source": [
    "#### Distribution of each category"
   ]
  },
  {
   "cell_type": "code",
   "execution_count": 3,
   "metadata": {},
   "outputs": [
    {
     "data": {
      "text/plain": [
       "(5, 2)"
      ]
     },
     "metadata": {},
     "output_type": "display_data"
    },
    {
     "data": {
      "text/html": [
       "<div>\n",
       "<style scoped>\n",
       "    .dataframe tbody tr th:only-of-type {\n",
       "        vertical-align: middle;\n",
       "    }\n",
       "\n",
       "    .dataframe tbody tr th {\n",
       "        vertical-align: top;\n",
       "    }\n",
       "\n",
       "    .dataframe thead th {\n",
       "        text-align: right;\n",
       "    }\n",
       "</style>\n",
       "<table border=\"1\" class=\"dataframe\">\n",
       "  <thead>\n",
       "    <tr style=\"text-align: right;\">\n",
       "      <th></th>\n",
       "      <th>category</th>\n",
       "      <th>number_of_categories</th>\n",
       "    </tr>\n",
       "  </thead>\n",
       "  <tbody>\n",
       "    <tr>\n",
       "      <td>0</td>\n",
       "      <td>business</td>\n",
       "      <td>510</td>\n",
       "    </tr>\n",
       "    <tr>\n",
       "      <td>1</td>\n",
       "      <td>entertainment</td>\n",
       "      <td>386</td>\n",
       "    </tr>\n",
       "    <tr>\n",
       "      <td>2</td>\n",
       "      <td>politics</td>\n",
       "      <td>417</td>\n",
       "    </tr>\n",
       "    <tr>\n",
       "      <td>3</td>\n",
       "      <td>sport</td>\n",
       "      <td>511</td>\n",
       "    </tr>\n",
       "    <tr>\n",
       "      <td>4</td>\n",
       "      <td>tech</td>\n",
       "      <td>401</td>\n",
       "    </tr>\n",
       "  </tbody>\n",
       "</table>\n",
       "</div>"
      ],
      "text/plain": [
       "        category  number_of_categories\n",
       "0       business                   510\n",
       "1  entertainment                   386\n",
       "2       politics                   417\n",
       "3          sport                   511\n",
       "4           tech                   401"
      ]
     },
     "metadata": {},
     "output_type": "display_data"
    },
    {
     "data": {
      "text/plain": [
       "<matplotlib.axes._subplots.AxesSubplot at 0x2022519e608>"
      ]
     },
     "metadata": {},
     "output_type": "display_data"
    },
    {
     "data": {
      "image/png": "[encoded data removed]",
      "text/plain": [
       "<Figure size 432x288 with 1 Axes>"
      ]
     },
     "metadata": {
      "needs_background": "light"
     },
     "output_type": "display_data"
    }
   ],
   "source": [
    "data_set_category = data_set.groupby(\"category\").id.count()\n",
    "data_set_category = data_set_category.reset_index()\n",
    "data_set_category = data_set_category.rename(columns={\"id\":\"number_of_categories\"})\n",
    "display(data_set_category.shape,data_set_category)\n",
    "\n",
    "display(data_set.groupby(\"category\").category.count().plot.bar(ylim = 0))"
   ]
  },
  {
   "cell_type": "markdown",
   "metadata": {},
   "source": [
    "#### Split data set."
   ]
  },
  {
   "cell_type": "code",
   "execution_count": 4,
   "metadata": {},
   "outputs": [],
   "source": [
    "X = data_set.iloc[:,:-1].values\n",
    "y = data_set.iloc[:,-1].values\n",
    "\n",
    "# split data set\n",
    "from sklearn.model_selection import train_test_split\n",
    "X_train, X_test, y_train, y_test = train_test_split(X, y, test_size = 0.2, random_state = 0)"
   ]
  },
  {
   "cell_type": "markdown",
   "metadata": {},
   "source": [
    "#### Create train and test dataframes"
   ]
  },
  {
   "cell_type": "code",
   "execution_count": 5,
   "metadata": {},
   "outputs": [
    {
     "data": {
      "text/plain": [
       "(1780, 4)"
      ]
     },
     "metadata": {},
     "output_type": "display_data"
    },
    {
     "data": {
      "text/html": [
       "<div>\n",
       "<style scoped>\n",
       "    .dataframe tbody tr th:only-of-type {\n",
       "        vertical-align: middle;\n",
       "    }\n",
       "\n",
       "    .dataframe tbody tr th {\n",
       "        vertical-align: top;\n",
       "    }\n",
       "\n",
       "    .dataframe thead th {\n",
       "        text-align: right;\n",
       "    }\n",
       "</style>\n",
       "<table border=\"1\" class=\"dataframe\">\n",
       "  <thead>\n",
       "    <tr style=\"text-align: right;\">\n",
       "      <th></th>\n",
       "      <th>id</th>\n",
       "      <th>title</th>\n",
       "      <th>content</th>\n",
       "      <th>category</th>\n",
       "    </tr>\n",
       "  </thead>\n",
       "  <tbody>\n",
       "    <tr>\n",
       "      <td>0</td>\n",
       "      <td>842</td>\n",
       "      <td>Incredibles win animation awards\\n</td>\n",
       "      <td>\\n The Incredibles movie has beaten Shrek 2 t...</td>\n",
       "      <td>entertainment</td>\n",
       "    </tr>\n",
       "    <tr>\n",
       "      <td>1</td>\n",
       "      <td>1749</td>\n",
       "      <td>Hantuchova in Dubai last eight\\n</td>\n",
       "      <td>\\n Daniela Hantuchova moved into the quarter-...</td>\n",
       "      <td>sport</td>\n",
       "    </tr>\n",
       "    <tr>\n",
       "      <td>2</td>\n",
       "      <td>2119</td>\n",
       "      <td>More power to the people says HP\\n</td>\n",
       "      <td>\\n The digital revolution is focused on letti...</td>\n",
       "      <td>tech</td>\n",
       "    </tr>\n",
       "    <tr>\n",
       "      <td>3</td>\n",
       "      <td>1175</td>\n",
       "      <td>Amnesty chief laments war failure\\n</td>\n",
       "      <td>\\n The lack of public outrage about the war o...</td>\n",
       "      <td>politics</td>\n",
       "    </tr>\n",
       "    <tr>\n",
       "      <td>4</td>\n",
       "      <td>1503</td>\n",
       "      <td>SA return to Mauritius\\n</td>\n",
       "      <td>\\n Top seeds South Africa return to the scene...</td>\n",
       "      <td>sport</td>\n",
       "    </tr>\n",
       "  </tbody>\n",
       "</table>\n",
       "</div>"
      ],
      "text/plain": [
       "     id                                title  \\\n",
       "0   842   Incredibles win animation awards\\n   \n",
       "1  1749     Hantuchova in Dubai last eight\\n   \n",
       "2  2119   More power to the people says HP\\n   \n",
       "3  1175  Amnesty chief laments war failure\\n   \n",
       "4  1503             SA return to Mauritius\\n   \n",
       "\n",
       "                                             content       category  \n",
       "0   \\n The Incredibles movie has beaten Shrek 2 t...  entertainment  \n",
       "1   \\n Daniela Hantuchova moved into the quarter-...          sport  \n",
       "2   \\n The digital revolution is focused on letti...           tech  \n",
       "3   \\n The lack of public outrage about the war o...       politics  \n",
       "4   \\n Top seeds South Africa return to the scene...          sport  "
      ]
     },
     "metadata": {},
     "output_type": "display_data"
    },
    {
     "data": {
      "text/plain": [
       "(1780, 4)"
      ]
     },
     "metadata": {},
     "output_type": "display_data"
    },
    {
     "data": {
      "text/html": [
       "<div>\n",
       "<style scoped>\n",
       "    .dataframe tbody tr th:only-of-type {\n",
       "        vertical-align: middle;\n",
       "    }\n",
       "\n",
       "    .dataframe tbody tr th {\n",
       "        vertical-align: top;\n",
       "    }\n",
       "\n",
       "    .dataframe thead th {\n",
       "        text-align: right;\n",
       "    }\n",
       "</style>\n",
       "<table border=\"1\" class=\"dataframe\">\n",
       "  <thead>\n",
       "    <tr style=\"text-align: right;\">\n",
       "      <th></th>\n",
       "      <th>id</th>\n",
       "      <th>title</th>\n",
       "      <th>content</th>\n",
       "      <th>category</th>\n",
       "    </tr>\n",
       "  </thead>\n",
       "  <tbody>\n",
       "    <tr>\n",
       "      <td>0</td>\n",
       "      <td>385</td>\n",
       "      <td>Tate &amp; Lyle boss bags top award\\n</td>\n",
       "      <td>\\n Tate &amp; Lyle's chief executive has been nam...</td>\n",
       "      <td>business</td>\n",
       "    </tr>\n",
       "    <tr>\n",
       "      <td>1</td>\n",
       "      <td>1984</td>\n",
       "      <td>Halo 2 sells five million copies\\n</td>\n",
       "      <td>\\n Microsoft is celebrating bumper sales of i...</td>\n",
       "      <td>tech</td>\n",
       "    </tr>\n",
       "    <tr>\n",
       "      <td>2</td>\n",
       "      <td>986</td>\n",
       "      <td>MSPs hear renewed climate warning\\n</td>\n",
       "      <td>\\n Climate change could be completely out of ...</td>\n",
       "      <td>politics</td>\n",
       "    </tr>\n",
       "    <tr>\n",
       "      <td>3</td>\n",
       "      <td>1387</td>\n",
       "      <td>Pavey focuses on indoor success\\n</td>\n",
       "      <td>\\n Jo Pavey will miss January's View From Gre...</td>\n",
       "      <td>sport</td>\n",
       "    </tr>\n",
       "    <tr>\n",
       "      <td>4</td>\n",
       "      <td>1295</td>\n",
       "      <td>Tories reject rethink on axed MP\\n</td>\n",
       "      <td>\\n Sacked MP Howard Flight's local Conservati...</td>\n",
       "      <td>politics</td>\n",
       "    </tr>\n",
       "  </tbody>\n",
       "</table>\n",
       "</div>"
      ],
      "text/plain": [
       "     id                                title  \\\n",
       "0   385    Tate & Lyle boss bags top award\\n   \n",
       "1  1984   Halo 2 sells five million copies\\n   \n",
       "2   986  MSPs hear renewed climate warning\\n   \n",
       "3  1387    Pavey focuses on indoor success\\n   \n",
       "4  1295   Tories reject rethink on axed MP\\n   \n",
       "\n",
       "                                             content  category  \n",
       "0   \\n Tate & Lyle's chief executive has been nam...  business  \n",
       "1   \\n Microsoft is celebrating bumper sales of i...      tech  \n",
       "2   \\n Climate change could be completely out of ...  politics  \n",
       "3   \\n Jo Pavey will miss January's View From Gre...     sport  \n",
       "4   \\n Sacked MP Howard Flight's local Conservati...  politics  "
      ]
     },
     "metadata": {},
     "output_type": "display_data"
    }
   ],
   "source": [
    "# create train dataframe\n",
    "train_set = pd.DataFrame(X_train, columns = [\"id\",\"title\",\"content\"])\n",
    "train_set[\"category\"] = pd.DataFrame(y_train, columns = [\"category\"])\n",
    "display(train_set.shape, train_set.head(5))\n",
    "\n",
    "# create test dataframe\n",
    "test_set = pd.DataFrame(X_test, columns = [\"id\",\"title\",\"content\"])\n",
    "test_set[\"category\"] = pd.DataFrame(y_test, columns = [\"category\"])\n",
    "display(train_set.shape, test_set.head(5))"
   ]
  },
  {
   "cell_type": "markdown",
   "metadata": {},
   "source": [
    "#### Display train distribution of each category"
   ]
  },
  {
   "cell_type": "code",
   "execution_count": 6,
   "metadata": {},
   "outputs": [
    {
     "data": {
      "text/plain": [
       "(5, 2)"
      ]
     },
     "metadata": {},
     "output_type": "display_data"
    },
    {
     "data": {
      "text/html": [
       "<div>\n",
       "<style scoped>\n",
       "    .dataframe tbody tr th:only-of-type {\n",
       "        vertical-align: middle;\n",
       "    }\n",
       "\n",
       "    .dataframe tbody tr th {\n",
       "        vertical-align: top;\n",
       "    }\n",
       "\n",
       "    .dataframe thead th {\n",
       "        text-align: right;\n",
       "    }\n",
       "</style>\n",
       "<table border=\"1\" class=\"dataframe\">\n",
       "  <thead>\n",
       "    <tr style=\"text-align: right;\">\n",
       "      <th></th>\n",
       "      <th>category</th>\n",
       "      <th>number_of_categories</th>\n",
       "    </tr>\n",
       "  </thead>\n",
       "  <tbody>\n",
       "    <tr>\n",
       "      <td>0</td>\n",
       "      <td>business</td>\n",
       "      <td>399</td>\n",
       "    </tr>\n",
       "    <tr>\n",
       "      <td>1</td>\n",
       "      <td>entertainment</td>\n",
       "      <td>312</td>\n",
       "    </tr>\n",
       "    <tr>\n",
       "      <td>2</td>\n",
       "      <td>politics</td>\n",
       "      <td>331</td>\n",
       "    </tr>\n",
       "    <tr>\n",
       "      <td>3</td>\n",
       "      <td>sport</td>\n",
       "      <td>403</td>\n",
       "    </tr>\n",
       "    <tr>\n",
       "      <td>4</td>\n",
       "      <td>tech</td>\n",
       "      <td>335</td>\n",
       "    </tr>\n",
       "  </tbody>\n",
       "</table>\n",
       "</div>"
      ],
      "text/plain": [
       "        category  number_of_categories\n",
       "0       business                   399\n",
       "1  entertainment                   312\n",
       "2       politics                   331\n",
       "3          sport                   403\n",
       "4           tech                   335"
      ]
     },
     "metadata": {},
     "output_type": "display_data"
    },
    {
     "data": {
      "text/plain": [
       "<matplotlib.axes._subplots.AxesSubplot at 0x2022420fd08>"
      ]
     },
     "metadata": {},
     "output_type": "display_data"
    },
    {
     "data": {
      "image/png": "[encoded data removed]",
      "text/plain": [
       "<Figure size 432x288 with 1 Axes>"
      ]
     },
     "metadata": {
      "needs_background": "light"
     },
     "output_type": "display_data"
    }
   ],
   "source": [
    "train_set_category = train_set.groupby(\"category\").id.count()\n",
    "train_set_category = train_set_category.reset_index()\n",
    "train_set_category = train_set_category.rename(columns={\"id\":\"number_of_categories\"})\n",
    "display(train_set_category.shape,train_set_category)\n",
    "\n",
    "display(train_set.groupby(\"category\").category.count().plot.bar(ylim=0))"
   ]
  },
  {
   "cell_type": "markdown",
   "metadata": {},
   "source": [
    "#### Display test distribution of each category"
   ]
  },
  {
   "cell_type": "code",
   "execution_count": 7,
   "metadata": {},
   "outputs": [
    {
     "data": {
      "text/plain": [
       "(5, 2)"
      ]
     },
     "metadata": {},
     "output_type": "display_data"
    },
    {
     "data": {
      "text/html": [
       "<div>\n",
       "<style scoped>\n",
       "    .dataframe tbody tr th:only-of-type {\n",
       "        vertical-align: middle;\n",
       "    }\n",
       "\n",
       "    .dataframe tbody tr th {\n",
       "        vertical-align: top;\n",
       "    }\n",
       "\n",
       "    .dataframe thead th {\n",
       "        text-align: right;\n",
       "    }\n",
       "</style>\n",
       "<table border=\"1\" class=\"dataframe\">\n",
       "  <thead>\n",
       "    <tr style=\"text-align: right;\">\n",
       "      <th></th>\n",
       "      <th>category</th>\n",
       "      <th>number_of_categories</th>\n",
       "    </tr>\n",
       "  </thead>\n",
       "  <tbody>\n",
       "    <tr>\n",
       "      <td>0</td>\n",
       "      <td>business</td>\n",
       "      <td>111</td>\n",
       "    </tr>\n",
       "    <tr>\n",
       "      <td>1</td>\n",
       "      <td>entertainment</td>\n",
       "      <td>74</td>\n",
       "    </tr>\n",
       "    <tr>\n",
       "      <td>2</td>\n",
       "      <td>politics</td>\n",
       "      <td>86</td>\n",
       "    </tr>\n",
       "    <tr>\n",
       "      <td>3</td>\n",
       "      <td>sport</td>\n",
       "      <td>108</td>\n",
       "    </tr>\n",
       "    <tr>\n",
       "      <td>4</td>\n",
       "      <td>tech</td>\n",
       "      <td>66</td>\n",
       "    </tr>\n",
       "  </tbody>\n",
       "</table>\n",
       "</div>"
      ],
      "text/plain": [
       "        category  number_of_categories\n",
       "0       business                   111\n",
       "1  entertainment                    74\n",
       "2       politics                    86\n",
       "3          sport                   108\n",
       "4           tech                    66"
      ]
     },
     "metadata": {},
     "output_type": "display_data"
    },
    {
     "data": {
      "text/plain": [
       "<matplotlib.axes._subplots.AxesSubplot at 0x2022a79b1c8>"
      ]
     },
     "metadata": {},
     "output_type": "display_data"
    },
    {
     "data": {
      "image/png": "[encoded data removed]",
      "text/plain": [
       "<Figure size 432x288 with 1 Axes>"
      ]
     },
     "metadata": {
      "needs_background": "light"
     },
     "output_type": "display_data"
    }
   ],
   "source": [
    "test_set_category = test_set.groupby(\"category\").id.count()\n",
    "test_set_category = test_set_category.reset_index()\n",
    "test_set_category = test_set_category.rename(columns={\"id\":\"number_of_categories\"})\n",
    "display(test_set_category.shape,test_set_category)\n",
    "\n",
    "display(test_set.groupby(\"category\").category.count().plot.bar(ylim = 0))"
   ]
  },
  {
   "cell_type": "markdown",
   "metadata": {},
   "source": [
    "#### Save dataframes to .tsv files"
   ]
  },
  {
   "cell_type": "code",
   "execution_count": 8,
   "metadata": {},
   "outputs": [],
   "source": [
    "# create data_set.tsv, train_set.tsv and test_set.tsv\n",
    "data_set.to_csv(f\"{data_sets_directory}/data_set.tsv\", sep=\"\\t\", index=False)\n",
    "train_set.to_csv(f\"{data_sets_directory}/train_set.tsv\", sep=\"\\t\", index=False, columns = [\"id\",\"title\",\"content\",\"category\"])\n",
    "test_set.to_csv(f\"{data_sets_directory}/test_set.tsv\", sep=\"\\t\", index=False, columns = [\"id\",\"title\",\"content\"])\n",
    "test_set.to_csv(f\"{data_sets_directory}/test_set_categories.tsv\", sep=\"\\t\", index=False, columns = [\"category\"])"
   ]
  }
 ],
 "metadata": {
  "kernelspec": {
   "display_name": "Python 3",
   "language": "python",
   "name": "python3"
  },
  "language_info": {
   "codemirror_mode": {
    "name": "ipython",
    "version": 3
   },
   "file_extension": ".py",
   "mimetype": "text/x-python",
   "name": "python",
   "nbconvert_exporter": "python",
   "pygments_lexer": "ipython3",
   "version": "3.7.4"
  }
 },
 "nbformat": 4,
 "nbformat_minor": 2
}
