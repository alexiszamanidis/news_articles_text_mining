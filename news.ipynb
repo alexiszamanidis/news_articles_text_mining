{
 "cells": [
  {
   "cell_type": "code",
   "execution_count": 1,
   "metadata": {},
   "outputs": [],
   "source": [
    "import os\n",
    "import re\n",
    "import warnings\n",
    "import pandas as pd\n",
    "\n",
    "# HIDE WARNINGS\n",
    "warnings.filterwarnings(\"ignore\")"
   ]
  },
  {
   "cell_type": "markdown",
   "metadata": {},
   "source": [
    "#### Create data set\n",
    "\n",
    "Scan all news directories and read all '.txt' files."
   ]
  },
  {
   "cell_type": "code",
   "execution_count": 2,
   "metadata": {},
   "outputs": [
    {
     "data": {
      "text/html": [
       "<div>\n",
       "<style scoped>\n",
       "    .dataframe tbody tr th:only-of-type {\n",
       "        vertical-align: middle;\n",
       "    }\n",
       "\n",
       "    .dataframe tbody tr th {\n",
       "        vertical-align: top;\n",
       "    }\n",
       "\n",
       "    .dataframe thead th {\n",
       "        text-align: right;\n",
       "    }\n",
       "</style>\n",
       "<table border=\"1\" class=\"dataframe\">\n",
       "  <thead>\n",
       "    <tr style=\"text-align: right;\">\n",
       "      <th></th>\n",
       "      <th>id</th>\n",
       "      <th>title</th>\n",
       "      <th>content</th>\n",
       "      <th>category</th>\n",
       "      <th>category_id</th>\n",
       "    </tr>\n",
       "  </thead>\n",
       "  <tbody>\n",
       "    <tr>\n",
       "      <td>0</td>\n",
       "      <td>1</td>\n",
       "      <td>Ad sales boost Time Warner profit\\n</td>\n",
       "      <td>\\n Quarterly profits at US media giant TimeWa...</td>\n",
       "      <td>business</td>\n",
       "      <td>0</td>\n",
       "    </tr>\n",
       "    <tr>\n",
       "      <td>1</td>\n",
       "      <td>2</td>\n",
       "      <td>Dollar gains on Greenspan speech\\n</td>\n",
       "      <td>\\n The dollar has hit its highest level again...</td>\n",
       "      <td>business</td>\n",
       "      <td>0</td>\n",
       "    </tr>\n",
       "    <tr>\n",
       "      <td>2</td>\n",
       "      <td>3</td>\n",
       "      <td>Yukos unit buyer faces loan claim\\n</td>\n",
       "      <td>\\n The owners of embattled Russian oil giant ...</td>\n",
       "      <td>business</td>\n",
       "      <td>0</td>\n",
       "    </tr>\n",
       "    <tr>\n",
       "      <td>3</td>\n",
       "      <td>4</td>\n",
       "      <td>High fuel prices hit BA's profits\\n</td>\n",
       "      <td>\\n British Airways has blamed high fuel price...</td>\n",
       "      <td>business</td>\n",
       "      <td>0</td>\n",
       "    </tr>\n",
       "    <tr>\n",
       "      <td>4</td>\n",
       "      <td>5</td>\n",
       "      <td>Pernod takeover talk lifts Domecq\\n</td>\n",
       "      <td>\\n Shares in UK drinks and food firm Allied D...</td>\n",
       "      <td>business</td>\n",
       "      <td>0</td>\n",
       "    </tr>\n",
       "  </tbody>\n",
       "</table>\n",
       "</div>"
      ],
      "text/plain": [
       "   id                                title  \\\n",
       "0   1  Ad sales boost Time Warner profit\\n   \n",
       "1   2   Dollar gains on Greenspan speech\\n   \n",
       "2   3  Yukos unit buyer faces loan claim\\n   \n",
       "3   4  High fuel prices hit BA's profits\\n   \n",
       "4   5  Pernod takeover talk lifts Domecq\\n   \n",
       "\n",
       "                                             content  category  category_id  \n",
       "0   \\n Quarterly profits at US media giant TimeWa...  business            0  \n",
       "1   \\n The dollar has hit its highest level again...  business            0  \n",
       "2   \\n The owners of embattled Russian oil giant ...  business            0  \n",
       "3   \\n British Airways has blamed high fuel price...  business            0  \n",
       "4   \\n Shares in UK drinks and food firm Allied D...  business            0  "
      ]
     },
     "metadata": {},
     "output_type": "display_data"
    }
   ],
   "source": [
    "path = \"./news_data\"\n",
    "ids = list()\n",
    "titles = list()\n",
    "contents = list()\n",
    "categories = list()\n",
    "# FOR ALL DIRECTORIES\n",
    "for directory in os.listdir(path):\n",
    "    if os.path.isdir(f\"{path}/{directory}/\"):\n",
    "        # FOR FILES IN EACH DIRECTORY\n",
    "        for file in os.listdir(f\"{path}/{directory}/\"):\n",
    "            if file.endswith(\".txt\"):\n",
    "                ids.append(len(ids)+1)\n",
    "                f = open(f\"{path}/{directory}/{file}\")\n",
    "                lines = f.readlines()\n",
    "                titles.append(lines[0])\n",
    "                content = \"\"\n",
    "                for line in lines[1:]:\n",
    "                    content = content + \" \" + line\n",
    "                contents.append(content)\n",
    "                categories.append(directory)\n",
    "# CREATE DATAFRAME\n",
    "data_set = pd.DataFrame(columns=[\"id\",\"title\",\"content\",\"category\"])\n",
    "data_set[\"id\"] = ids\n",
    "data_set[\"title\"] = titles\n",
    "data_set[\"content\"] = contents\n",
    "data_set[\"category\"] = categories\n",
    "# ASSOCIATE CATEGORY NAMES WITH NUMERICAL INDEX\n",
    "data_set[\"category_id\"] = data_set[\"category\"].factorize()[0]\n",
    "display(data_set.head(5))\n",
    "# CREATE data_set.csv\n",
    "data_set.to_csv(\"./data_sets/data_set.csv\",sep=\"\\t\",index=False)"
   ]
  },
  {
   "cell_type": "markdown",
   "metadata": {},
   "source": [
    "#### Display five random samples"
   ]
  },
  {
   "cell_type": "code",
   "execution_count": 3,
   "metadata": {},
   "outputs": [
    {
     "data": {
      "text/html": [
       "<div>\n",
       "<style scoped>\n",
       "    .dataframe tbody tr th:only-of-type {\n",
       "        vertical-align: middle;\n",
       "    }\n",
       "\n",
       "    .dataframe tbody tr th {\n",
       "        vertical-align: top;\n",
       "    }\n",
       "\n",
       "    .dataframe thead th {\n",
       "        text-align: right;\n",
       "    }\n",
       "</style>\n",
       "<table border=\"1\" class=\"dataframe\">\n",
       "  <thead>\n",
       "    <tr style=\"text-align: right;\">\n",
       "      <th></th>\n",
       "      <th>id</th>\n",
       "      <th>title</th>\n",
       "      <th>content</th>\n",
       "      <th>category</th>\n",
       "      <th>category_id</th>\n",
       "    </tr>\n",
       "  </thead>\n",
       "  <tbody>\n",
       "    <tr>\n",
       "      <td>384</td>\n",
       "      <td>385</td>\n",
       "      <td>Tate &amp; Lyle boss bags top award\\n</td>\n",
       "      <td>\\n Tate &amp; Lyle's chief executive has been nam...</td>\n",
       "      <td>business</td>\n",
       "      <td>0</td>\n",
       "    </tr>\n",
       "    <tr>\n",
       "      <td>1983</td>\n",
       "      <td>1984</td>\n",
       "      <td>Halo 2 sells five million copies\\n</td>\n",
       "      <td>\\n Microsoft is celebrating bumper sales of i...</td>\n",
       "      <td>tech</td>\n",
       "      <td>4</td>\n",
       "    </tr>\n",
       "    <tr>\n",
       "      <td>985</td>\n",
       "      <td>986</td>\n",
       "      <td>MSPs hear renewed climate warning\\n</td>\n",
       "      <td>\\n Climate change could be completely out of ...</td>\n",
       "      <td>politics</td>\n",
       "      <td>2</td>\n",
       "    </tr>\n",
       "    <tr>\n",
       "      <td>1386</td>\n",
       "      <td>1387</td>\n",
       "      <td>Pavey focuses on indoor success\\n</td>\n",
       "      <td>\\n Jo Pavey will miss January's View From Gre...</td>\n",
       "      <td>sport</td>\n",
       "      <td>3</td>\n",
       "    </tr>\n",
       "    <tr>\n",
       "      <td>1294</td>\n",
       "      <td>1295</td>\n",
       "      <td>Tories reject rethink on axed MP\\n</td>\n",
       "      <td>\\n Sacked MP Howard Flight's local Conservati...</td>\n",
       "      <td>politics</td>\n",
       "      <td>2</td>\n",
       "    </tr>\n",
       "  </tbody>\n",
       "</table>\n",
       "</div>"
      ],
      "text/plain": [
       "        id                                title  \\\n",
       "384    385    Tate & Lyle boss bags top award\\n   \n",
       "1983  1984   Halo 2 sells five million copies\\n   \n",
       "985    986  MSPs hear renewed climate warning\\n   \n",
       "1386  1387    Pavey focuses on indoor success\\n   \n",
       "1294  1295   Tories reject rethink on axed MP\\n   \n",
       "\n",
       "                                                content  category  category_id  \n",
       "384    \\n Tate & Lyle's chief executive has been nam...  business            0  \n",
       "1983   \\n Microsoft is celebrating bumper sales of i...      tech            4  \n",
       "985    \\n Climate change could be completely out of ...  politics            2  \n",
       "1386   \\n Jo Pavey will miss January's View From Gre...     sport            3  \n",
       "1294   \\n Sacked MP Howard Flight's local Conservati...  politics            2  "
      ]
     },
     "execution_count": 3,
     "metadata": {},
     "output_type": "execute_result"
    }
   ],
   "source": [
    "data_set.sample(5, random_state=0)"
   ]
  },
  {
   "cell_type": "markdown",
   "metadata": {},
   "source": [
    "#### Distribution of each category"
   ]
  },
  {
   "cell_type": "code",
   "execution_count": 4,
   "metadata": {},
   "outputs": [
    {
     "data": {
      "text/plain": [
       "category\n",
       "business         510\n",
       "entertainment    386\n",
       "politics         417\n",
       "sport            511\n",
       "tech             401\n",
       "Name: category_id, dtype: int64"
      ]
     },
     "metadata": {},
     "output_type": "display_data"
    },
    {
     "data": {
      "text/plain": [
       "<matplotlib.axes._subplots.AxesSubplot at 0x29b442a28c8>"
      ]
     },
     "metadata": {},
     "output_type": "display_data"
    }
   ],
   "source": [
    "display(data_set.groupby(\"category\").category_id.count())\n",
    "display(data_set.groupby(\"category\").category_id.count().plot.bar())"
   ]
  },
  {
   "cell_type": "markdown",
   "metadata": {},
   "source": [
    "#### Create train set and test set\n",
    "\n",
    "Split data set and create train and test set."
   ]
  },
  {
   "cell_type": "code",
   "execution_count": 5,
   "metadata": {},
   "outputs": [
    {
     "data": {
      "text/plain": [
       "(5, 2)"
      ]
     },
     "metadata": {},
     "output_type": "display_data"
    },
    {
     "data": {
      "text/html": [
       "<div>\n",
       "<style scoped>\n",
       "    .dataframe tbody tr th:only-of-type {\n",
       "        vertical-align: middle;\n",
       "    }\n",
       "\n",
       "    .dataframe tbody tr th {\n",
       "        vertical-align: top;\n",
       "    }\n",
       "\n",
       "    .dataframe thead th {\n",
       "        text-align: right;\n",
       "    }\n",
       "</style>\n",
       "<table border=\"1\" class=\"dataframe\">\n",
       "  <thead>\n",
       "    <tr style=\"text-align: right;\">\n",
       "      <th></th>\n",
       "      <th>category</th>\n",
       "      <th>number_of_categories</th>\n",
       "    </tr>\n",
       "  </thead>\n",
       "  <tbody>\n",
       "    <tr>\n",
       "      <td>0</td>\n",
       "      <td>business</td>\n",
       "      <td>399</td>\n",
       "    </tr>\n",
       "    <tr>\n",
       "      <td>1</td>\n",
       "      <td>entertainment</td>\n",
       "      <td>312</td>\n",
       "    </tr>\n",
       "    <tr>\n",
       "      <td>2</td>\n",
       "      <td>politics</td>\n",
       "      <td>331</td>\n",
       "    </tr>\n",
       "    <tr>\n",
       "      <td>3</td>\n",
       "      <td>sport</td>\n",
       "      <td>403</td>\n",
       "    </tr>\n",
       "    <tr>\n",
       "      <td>4</td>\n",
       "      <td>tech</td>\n",
       "      <td>335</td>\n",
       "    </tr>\n",
       "  </tbody>\n",
       "</table>\n",
       "</div>"
      ],
      "text/plain": [
       "        category  number_of_categories\n",
       "0       business                   399\n",
       "1  entertainment                   312\n",
       "2       politics                   331\n",
       "3          sport                   403\n",
       "4           tech                   335"
      ]
     },
     "metadata": {},
     "output_type": "display_data"
    },
    {
     "data": {
      "text/plain": [
       "(5, 2)"
      ]
     },
     "metadata": {},
     "output_type": "display_data"
    },
    {
     "data": {
      "text/html": [
       "<div>\n",
       "<style scoped>\n",
       "    .dataframe tbody tr th:only-of-type {\n",
       "        vertical-align: middle;\n",
       "    }\n",
       "\n",
       "    .dataframe tbody tr th {\n",
       "        vertical-align: top;\n",
       "    }\n",
       "\n",
       "    .dataframe thead th {\n",
       "        text-align: right;\n",
       "    }\n",
       "</style>\n",
       "<table border=\"1\" class=\"dataframe\">\n",
       "  <thead>\n",
       "    <tr style=\"text-align: right;\">\n",
       "      <th></th>\n",
       "      <th>category</th>\n",
       "      <th>number_of_categories</th>\n",
       "    </tr>\n",
       "  </thead>\n",
       "  <tbody>\n",
       "    <tr>\n",
       "      <td>0</td>\n",
       "      <td>business</td>\n",
       "      <td>111</td>\n",
       "    </tr>\n",
       "    <tr>\n",
       "      <td>1</td>\n",
       "      <td>entertainment</td>\n",
       "      <td>74</td>\n",
       "    </tr>\n",
       "    <tr>\n",
       "      <td>2</td>\n",
       "      <td>politics</td>\n",
       "      <td>86</td>\n",
       "    </tr>\n",
       "    <tr>\n",
       "      <td>3</td>\n",
       "      <td>sport</td>\n",
       "      <td>108</td>\n",
       "    </tr>\n",
       "    <tr>\n",
       "      <td>4</td>\n",
       "      <td>tech</td>\n",
       "      <td>66</td>\n",
       "    </tr>\n",
       "  </tbody>\n",
       "</table>\n",
       "</div>"
      ],
      "text/plain": [
       "        category  number_of_categories\n",
       "0       business                   111\n",
       "1  entertainment                    74\n",
       "2       politics                    86\n",
       "3          sport                   108\n",
       "4           tech                    66"
      ]
     },
     "metadata": {},
     "output_type": "display_data"
    }
   ],
   "source": [
    "X = data_set.iloc[:,:-1].values\n",
    "y = data_set.iloc[:,-1].values\n",
    "\n",
    "# SPLIT DATA SET\n",
    "from sklearn.model_selection import train_test_split\n",
    "X_train, X_test, y_train, y_test = train_test_split(X, y, test_size = 0.2, random_state=0)\n",
    "\n",
    "# CREATE TRAIN DATAFRAME\n",
    "train_set = pd.DataFrame(X_train,columns=[\"id\",\"title\",\"content\",\"category\"])\n",
    "train_set[\"category_id\"] = pd.DataFrame(y_train,columns=[\"category_id\"])\n",
    "#display(train_set)\n",
    "# CREATE TEST DATAFRAME\n",
    "test_set = pd.DataFrame(X_test,columns=[\"id\",\"title\",\"content\",\"category\"])\n",
    "test_set[\"category_id\"] = pd.DataFrame(y_test,columns=[\"category_id\"])\n",
    "#display(test_set)\n",
    "\n",
    "# MAKE SURE THAT TRAIN SET AND TEST SET HAVE A GOOD SPLIT\n",
    "# DISPLAY NUMBER OF CATEGORIES FOR TRAIN SET\n",
    "train_category = train_set.groupby(\"category\").id.count()\n",
    "train_category = train_category.reset_index()\n",
    "train_category = train_category.rename(columns={\"id\":\"number_of_categories\"})\n",
    "display(train_category.shape,train_category)\n",
    "# DISPLAY NUMBER OF CATEGORIES FOR TEST SET\n",
    "test_category = test_set.groupby(\"category\").id.count()\n",
    "test_category = test_category.reset_index()\n",
    "test_category = test_category.rename(columns={\"id\":\"number_of_categories\"})\n",
    "display(test_category.shape,test_category)\n",
    "# CREATE train_set.csv AND test_set.csv\n",
    "train_set.to_csv(\"./data_sets/train_set.csv\",sep=\"\\t\",index=False,columns=[\"id\",\"title\",\"content\",\"category\"])\n",
    "test_set.to_csv(\"./data_sets/test_set.csv\",sep=\"\\t\",index=False,columns=[\"id\",\"title\",\"content\"])"
   ]
  },
  {
   "cell_type": "markdown",
   "metadata": {},
   "source": [
    "## Preprocessing\n",
    "\n",
    "First of all read data, train and test set from the disk and save them into three panda dataframes. Also, associate category names with numerical index."
   ]
  },
  {
   "cell_type": "code",
   "execution_count": 6,
   "metadata": {},
   "outputs": [
    {
     "data": {
      "text/plain": [
       "(2225, 5)"
      ]
     },
     "metadata": {},
     "output_type": "display_data"
    },
    {
     "data": {
      "text/html": [
       "<div>\n",
       "<style scoped>\n",
       "    .dataframe tbody tr th:only-of-type {\n",
       "        vertical-align: middle;\n",
       "    }\n",
       "\n",
       "    .dataframe tbody tr th {\n",
       "        vertical-align: top;\n",
       "    }\n",
       "\n",
       "    .dataframe thead th {\n",
       "        text-align: right;\n",
       "    }\n",
       "</style>\n",
       "<table border=\"1\" class=\"dataframe\">\n",
       "  <thead>\n",
       "    <tr style=\"text-align: right;\">\n",
       "      <th></th>\n",
       "      <th>id</th>\n",
       "      <th>title</th>\n",
       "      <th>content</th>\n",
       "      <th>category</th>\n",
       "      <th>category_id</th>\n",
       "    </tr>\n",
       "  </thead>\n",
       "  <tbody>\n",
       "    <tr>\n",
       "      <td>0</td>\n",
       "      <td>1</td>\n",
       "      <td>Ad sales boost Time Warner profit\\n</td>\n",
       "      <td>\\n Quarterly profits at US media giant TimeWa...</td>\n",
       "      <td>business</td>\n",
       "      <td>0</td>\n",
       "    </tr>\n",
       "    <tr>\n",
       "      <td>1</td>\n",
       "      <td>2</td>\n",
       "      <td>Dollar gains on Greenspan speech\\n</td>\n",
       "      <td>\\n The dollar has hit its highest level again...</td>\n",
       "      <td>business</td>\n",
       "      <td>0</td>\n",
       "    </tr>\n",
       "    <tr>\n",
       "      <td>2</td>\n",
       "      <td>3</td>\n",
       "      <td>Yukos unit buyer faces loan claim\\n</td>\n",
       "      <td>\\n The owners of embattled Russian oil giant ...</td>\n",
       "      <td>business</td>\n",
       "      <td>0</td>\n",
       "    </tr>\n",
       "    <tr>\n",
       "      <td>3</td>\n",
       "      <td>4</td>\n",
       "      <td>High fuel prices hit BA's profits\\n</td>\n",
       "      <td>\\n British Airways has blamed high fuel price...</td>\n",
       "      <td>business</td>\n",
       "      <td>0</td>\n",
       "    </tr>\n",
       "    <tr>\n",
       "      <td>4</td>\n",
       "      <td>5</td>\n",
       "      <td>Pernod takeover talk lifts Domecq\\n</td>\n",
       "      <td>\\n Shares in UK drinks and food firm Allied D...</td>\n",
       "      <td>business</td>\n",
       "      <td>0</td>\n",
       "    </tr>\n",
       "  </tbody>\n",
       "</table>\n",
       "</div>"
      ],
      "text/plain": [
       "   id                                title  \\\n",
       "0   1  Ad sales boost Time Warner profit\\n   \n",
       "1   2   Dollar gains on Greenspan speech\\n   \n",
       "2   3  Yukos unit buyer faces loan claim\\n   \n",
       "3   4  High fuel prices hit BA's profits\\n   \n",
       "4   5  Pernod takeover talk lifts Domecq\\n   \n",
       "\n",
       "                                             content  category  category_id  \n",
       "0   \\n Quarterly profits at US media giant TimeWa...  business            0  \n",
       "1   \\n The dollar has hit its highest level again...  business            0  \n",
       "2   \\n The owners of embattled Russian oil giant ...  business            0  \n",
       "3   \\n British Airways has blamed high fuel price...  business            0  \n",
       "4   \\n Shares in UK drinks and food firm Allied D...  business            0  "
      ]
     },
     "metadata": {},
     "output_type": "display_data"
    },
    {
     "data": {
      "text/plain": [
       "(1780, 4)"
      ]
     },
     "metadata": {},
     "output_type": "display_data"
    },
    {
     "data": {
      "text/html": [
       "<div>\n",
       "<style scoped>\n",
       "    .dataframe tbody tr th:only-of-type {\n",
       "        vertical-align: middle;\n",
       "    }\n",
       "\n",
       "    .dataframe tbody tr th {\n",
       "        vertical-align: top;\n",
       "    }\n",
       "\n",
       "    .dataframe thead th {\n",
       "        text-align: right;\n",
       "    }\n",
       "</style>\n",
       "<table border=\"1\" class=\"dataframe\">\n",
       "  <thead>\n",
       "    <tr style=\"text-align: right;\">\n",
       "      <th></th>\n",
       "      <th>id</th>\n",
       "      <th>title</th>\n",
       "      <th>content</th>\n",
       "      <th>category</th>\n",
       "    </tr>\n",
       "  </thead>\n",
       "  <tbody>\n",
       "    <tr>\n",
       "      <td>0</td>\n",
       "      <td>842</td>\n",
       "      <td>Incredibles win animation awards\\n</td>\n",
       "      <td>\\n The Incredibles movie has beaten Shrek 2 t...</td>\n",
       "      <td>entertainment</td>\n",
       "    </tr>\n",
       "    <tr>\n",
       "      <td>1</td>\n",
       "      <td>1749</td>\n",
       "      <td>Hantuchova in Dubai last eight\\n</td>\n",
       "      <td>\\n Daniela Hantuchova moved into the quarter-...</td>\n",
       "      <td>sport</td>\n",
       "    </tr>\n",
       "    <tr>\n",
       "      <td>2</td>\n",
       "      <td>2119</td>\n",
       "      <td>More power to the people says HP\\n</td>\n",
       "      <td>\\n The digital revolution is focused on letti...</td>\n",
       "      <td>tech</td>\n",
       "    </tr>\n",
       "    <tr>\n",
       "      <td>3</td>\n",
       "      <td>1175</td>\n",
       "      <td>Amnesty chief laments war failure\\n</td>\n",
       "      <td>\\n The lack of public outrage about the war o...</td>\n",
       "      <td>politics</td>\n",
       "    </tr>\n",
       "    <tr>\n",
       "      <td>4</td>\n",
       "      <td>1503</td>\n",
       "      <td>SA return to Mauritius\\n</td>\n",
       "      <td>\\n Top seeds South Africa return to the scene...</td>\n",
       "      <td>sport</td>\n",
       "    </tr>\n",
       "  </tbody>\n",
       "</table>\n",
       "</div>"
      ],
      "text/plain": [
       "     id                                title  \\\n",
       "0   842   Incredibles win animation awards\\n   \n",
       "1  1749     Hantuchova in Dubai last eight\\n   \n",
       "2  2119   More power to the people says HP\\n   \n",
       "3  1175  Amnesty chief laments war failure\\n   \n",
       "4  1503             SA return to Mauritius\\n   \n",
       "\n",
       "                                             content       category  \n",
       "0   \\n The Incredibles movie has beaten Shrek 2 t...  entertainment  \n",
       "1   \\n Daniela Hantuchova moved into the quarter-...          sport  \n",
       "2   \\n The digital revolution is focused on letti...           tech  \n",
       "3   \\n The lack of public outrage about the war o...       politics  \n",
       "4   \\n Top seeds South Africa return to the scene...          sport  "
      ]
     },
     "metadata": {},
     "output_type": "display_data"
    },
    {
     "data": {
      "text/plain": [
       "(445, 3)"
      ]
     },
     "metadata": {},
     "output_type": "display_data"
    },
    {
     "data": {
      "text/html": [
       "<div>\n",
       "<style scoped>\n",
       "    .dataframe tbody tr th:only-of-type {\n",
       "        vertical-align: middle;\n",
       "    }\n",
       "\n",
       "    .dataframe tbody tr th {\n",
       "        vertical-align: top;\n",
       "    }\n",
       "\n",
       "    .dataframe thead th {\n",
       "        text-align: right;\n",
       "    }\n",
       "</style>\n",
       "<table border=\"1\" class=\"dataframe\">\n",
       "  <thead>\n",
       "    <tr style=\"text-align: right;\">\n",
       "      <th></th>\n",
       "      <th>id</th>\n",
       "      <th>title</th>\n",
       "      <th>content</th>\n",
       "    </tr>\n",
       "  </thead>\n",
       "  <tbody>\n",
       "    <tr>\n",
       "      <td>0</td>\n",
       "      <td>385</td>\n",
       "      <td>Tate &amp; Lyle boss bags top award\\n</td>\n",
       "      <td>\\n Tate &amp; Lyle's chief executive has been nam...</td>\n",
       "    </tr>\n",
       "    <tr>\n",
       "      <td>1</td>\n",
       "      <td>1984</td>\n",
       "      <td>Halo 2 sells five million copies\\n</td>\n",
       "      <td>\\n Microsoft is celebrating bumper sales of i...</td>\n",
       "    </tr>\n",
       "    <tr>\n",
       "      <td>2</td>\n",
       "      <td>986</td>\n",
       "      <td>MSPs hear renewed climate warning\\n</td>\n",
       "      <td>\\n Climate change could be completely out of ...</td>\n",
       "    </tr>\n",
       "    <tr>\n",
       "      <td>3</td>\n",
       "      <td>1387</td>\n",
       "      <td>Pavey focuses on indoor success\\n</td>\n",
       "      <td>\\n Jo Pavey will miss January's View From Gre...</td>\n",
       "    </tr>\n",
       "    <tr>\n",
       "      <td>4</td>\n",
       "      <td>1295</td>\n",
       "      <td>Tories reject rethink on axed MP\\n</td>\n",
       "      <td>\\n Sacked MP Howard Flight's local Conservati...</td>\n",
       "    </tr>\n",
       "  </tbody>\n",
       "</table>\n",
       "</div>"
      ],
      "text/plain": [
       "     id                                title  \\\n",
       "0   385    Tate & Lyle boss bags top award\\n   \n",
       "1  1984   Halo 2 sells five million copies\\n   \n",
       "2   986  MSPs hear renewed climate warning\\n   \n",
       "3  1387    Pavey focuses on indoor success\\n   \n",
       "4  1295   Tories reject rethink on axed MP\\n   \n",
       "\n",
       "                                             content  \n",
       "0   \\n Tate & Lyle's chief executive has been nam...  \n",
       "1   \\n Microsoft is celebrating bumper sales of i...  \n",
       "2   \\n Climate change could be completely out of ...  \n",
       "3   \\n Jo Pavey will miss January's View From Gre...  \n",
       "4   \\n Sacked MP Howard Flight's local Conservati...  "
      ]
     },
     "metadata": {},
     "output_type": "display_data"
    }
   ],
   "source": [
    "# READ DATASETS\n",
    "data_set  = pd.read_csv(\"./data_sets/data_set.csv\", delimiter=\"\\t\",names=[\"id\",\"title\",\"content\",\"category\",\"category_id\"],header=0)\n",
    "train_set = pd.read_csv(\"./data_sets/train_set.csv\",delimiter=\"\\t\",names=[\"id\",\"title\",\"content\",\"category\"],header=0)\n",
    "test_set  = pd.read_csv(\"./data_sets/test_set.csv\", delimiter=\"\\t\",names=[\"id\",\"title\",\"content\"],           header=0)\n",
    "\n",
    "# DISPLAY DATAFRAMES\n",
    "display(data_set.shape,data_set.head(5))\n",
    "display(train_set.shape,train_set.head(5))\n",
    "display(test_set.shape,test_set.head(5))"
   ]
  },
  {
   "cell_type": "markdown",
   "metadata": {},
   "source": [
    "#### Cleaning the data\n",
    "\n",
    "Remove special characters, replace white spaces to one space, covert text into lower case and remove stop words"
   ]
  },
  {
   "cell_type": "code",
   "execution_count": 7,
   "metadata": {},
   "outputs": [],
   "source": [
    "from collections import Counter\n",
    "from nltk.corpus import stopwords\n",
    "\n",
    "# clean_text: REMOVES SPECIAL CHARACTERS, REPLACE WHITE SPACES TO ONE SPACE, COVERTS TEXT INTO LOWER CASE\n",
    "def clean_text(text):\n",
    "    # REMOVE SPECIAL CHARACTERS\n",
    "    text = re.sub(\"[^a-zA-z\\s]\",\"\",text) \n",
    "    text = re.sub(\"_\", \"\", text) \n",
    "    # CHANGE ANY WHITE SPACE TO ONE SPACE\n",
    "    text = re.sub(\"\\s+\",\" \",text) \n",
    "    # REMOVE START AND END WHITE SPACES\n",
    "    text = text.strip()\n",
    "    # COVERT TEXT INTO LOWER CASE\n",
    "    text = text.lower()\n",
    "    return text\n",
    "\n",
    "# remove_stop_words_from_text: REMOVES FAST STOP WORDS USING DICTIONARY\n",
    "def remove_stop_words_from_text(text, more_stop_words = []):\n",
    "    stop_words = stopwords.words(\"english\") + more_stop_words\n",
    "    stopwords_dictionary = Counter(stop_words)\n",
    "    text = \" \".join([word for word in text.split() if word not in stopwords_dictionary])\n",
    "    return text\n",
    "\n",
    "# clean_column: CLEANS FROM SYMBOLS AND REMOVES STOP WORDS FROM A COLUMN OF A DATAFRAME\n",
    "def clean_column(dataframe,column,more_stop_words):\n",
    "    for index, row in dataframe.iterrows():\n",
    "        # CLEAN CONTENT\n",
    "        dataframe.loc[index,f\"clean_{column}\"] = clean_text(dataframe.loc[index,column])\n",
    "        # REMOVE STOP WORDS FROM CLEAN CONTENT\n",
    "        dataframe.loc[index,f\"clean_{column}\"] = remove_stop_words_from_text(dataframe.loc[index,f\"clean_{column}\"],more_stop_words)\n",
    "\n",
    "# ADD MORE STOP WORDS FOR BETTER RESULTS\n",
    "more_stop_words = [\"say\",\"said\",\"want\",\"thing\",\"may\",\"see\",\"make\",\"look\",\"likely\",\"well\",\"told\"]"
   ]
  },
  {
   "cell_type": "markdown",
   "metadata": {},
   "source": [
    "#### Stemming\n",
    "\n",
    "Stemming is the process of reducing inflected (or sometimes derived) words to their word stem, base or root form—generally a written word form."
   ]
  },
  {
   "cell_type": "code",
   "execution_count": 8,
   "metadata": {},
   "outputs": [],
   "source": [
    "from nltk.stem import PorterStemmer\n",
    "from nltk.tokenize import word_tokenize\n",
    "\n",
    "# stem_sentence: STEMS A GIVEN SENTENCE\n",
    "def stem_sentence(sentence):\n",
    "    porter = PorterStemmer()\n",
    "    words = word_tokenize(sentence)\n",
    "    stems_sentence = list()\n",
    "    for word in words:\n",
    "        stems_sentence.append(porter.stem(word))\n",
    "    return \" \".join(stems_sentence)\n",
    "\n",
    "# stem_column: STEMS A COLUMN OF A DATAFRAME\n",
    "def stem_column(dataframe,column):\n",
    "    for index, row in dataframe.iterrows():\n",
    "        dataframe.loc[index,f\"{column}_stems\"] = stem_sentence(dataframe.loc[index,column])   "
   ]
  },
  {
   "cell_type": "markdown",
   "metadata": {},
   "source": [
    "#### Lemmatization\n",
    "\n",
    "Lemmatisation (or lemmatization) in linguistics is the process of grouping together the inflected forms of a word so they can be analysed as a single item, identified by the word's lemma, or dictionary form."
   ]
  },
  {
   "cell_type": "code",
   "execution_count": 9,
   "metadata": {},
   "outputs": [],
   "source": [
    "from nltk.tokenize import word_tokenize\n",
    "from nltk.stem import WordNetLemmatizer\n",
    "\n",
    "# lemmatize_sentence: LEMATTIZES A GIVEN SENTENCE\n",
    "def lemmatize_sentence(sentence):\n",
    "    lemmatizer = WordNetLemmatizer()\n",
    "    words = word_tokenize(sentence)\n",
    "    lemmas_sentence = list()\n",
    "    for word in words:\n",
    "        lemmas_sentence.append(lemmatizer.lemmatize(word))\n",
    "    return \" \".join(lemmas_sentence)\n",
    "\n",
    "# lemmatize_sentence: LEMATTIZES A COLUMN OF A DATAFRAME\n",
    "def lemmatize_column(dataframe,column):\n",
    "    for index, row in dataframe.iterrows():\n",
    "        dataframe.loc[index,f\"{column}_lemmas\"] = lemmatize_sentence(dataframe.loc[index,column])"
   ]
  },
  {
   "cell_type": "markdown",
   "metadata": {},
   "source": [
    "#### Cleaning our data set\n",
    "\n",
    "Concatenate title and content. Also, clean them."
   ]
  },
  {
   "cell_type": "code",
   "execution_count": 10,
   "metadata": {},
   "outputs": [
    {
     "data": {
      "text/html": [
       "<div>\n",
       "<style scoped>\n",
       "    .dataframe tbody tr th:only-of-type {\n",
       "        vertical-align: middle;\n",
       "    }\n",
       "\n",
       "    .dataframe tbody tr th {\n",
       "        vertical-align: top;\n",
       "    }\n",
       "\n",
       "    .dataframe thead th {\n",
       "        text-align: right;\n",
       "    }\n",
       "</style>\n",
       "<table border=\"1\" class=\"dataframe\">\n",
       "  <thead>\n",
       "    <tr style=\"text-align: right;\">\n",
       "      <th></th>\n",
       "      <th>id</th>\n",
       "      <th>title</th>\n",
       "      <th>content</th>\n",
       "      <th>category</th>\n",
       "      <th>category_id</th>\n",
       "      <th>title_and_content</th>\n",
       "      <th>clean_title</th>\n",
       "      <th>clean_content</th>\n",
       "      <th>clean_title_and_content</th>\n",
       "    </tr>\n",
       "  </thead>\n",
       "  <tbody>\n",
       "    <tr>\n",
       "      <td>0</td>\n",
       "      <td>1</td>\n",
       "      <td>Ad sales boost Time Warner profit\\n</td>\n",
       "      <td>\\n Quarterly profits at US media giant TimeWa...</td>\n",
       "      <td>business</td>\n",
       "      <td>0</td>\n",
       "      <td>Ad sales boost Time Warner profit\\n  \\n Quarte...</td>\n",
       "      <td>ad sales boost time warner profit</td>\n",
       "      <td>quarterly profits us media giant timewarner ju...</td>\n",
       "      <td>ad sales boost time warner profit quarterly pr...</td>\n",
       "    </tr>\n",
       "    <tr>\n",
       "      <td>1</td>\n",
       "      <td>2</td>\n",
       "      <td>Dollar gains on Greenspan speech\\n</td>\n",
       "      <td>\\n The dollar has hit its highest level again...</td>\n",
       "      <td>business</td>\n",
       "      <td>0</td>\n",
       "      <td>Dollar gains on Greenspan speech\\n  \\n The dol...</td>\n",
       "      <td>dollar gains greenspan speech</td>\n",
       "      <td>dollar hit highest level euro almost three mon...</td>\n",
       "      <td>dollar gains greenspan speech dollar hit highe...</td>\n",
       "    </tr>\n",
       "    <tr>\n",
       "      <td>2</td>\n",
       "      <td>3</td>\n",
       "      <td>Yukos unit buyer faces loan claim\\n</td>\n",
       "      <td>\\n The owners of embattled Russian oil giant ...</td>\n",
       "      <td>business</td>\n",
       "      <td>0</td>\n",
       "      <td>Yukos unit buyer faces loan claim\\n  \\n The ow...</td>\n",
       "      <td>yukos unit buyer faces loan claim</td>\n",
       "      <td>owners embattled russian oil giant yukos ask b...</td>\n",
       "      <td>yukos unit buyer faces loan claim owners embat...</td>\n",
       "    </tr>\n",
       "  </tbody>\n",
       "</table>\n",
       "</div>"
      ],
      "text/plain": [
       "   id                                title  \\\n",
       "0   1  Ad sales boost Time Warner profit\\n   \n",
       "1   2   Dollar gains on Greenspan speech\\n   \n",
       "2   3  Yukos unit buyer faces loan claim\\n   \n",
       "\n",
       "                                             content  category  category_id  \\\n",
       "0   \\n Quarterly profits at US media giant TimeWa...  business            0   \n",
       "1   \\n The dollar has hit its highest level again...  business            0   \n",
       "2   \\n The owners of embattled Russian oil giant ...  business            0   \n",
       "\n",
       "                                   title_and_content  \\\n",
       "0  Ad sales boost Time Warner profit\\n  \\n Quarte...   \n",
       "1  Dollar gains on Greenspan speech\\n  \\n The dol...   \n",
       "2  Yukos unit buyer faces loan claim\\n  \\n The ow...   \n",
       "\n",
       "                         clean_title  \\\n",
       "0  ad sales boost time warner profit   \n",
       "1      dollar gains greenspan speech   \n",
       "2  yukos unit buyer faces loan claim   \n",
       "\n",
       "                                       clean_content  \\\n",
       "0  quarterly profits us media giant timewarner ju...   \n",
       "1  dollar hit highest level euro almost three mon...   \n",
       "2  owners embattled russian oil giant yukos ask b...   \n",
       "\n",
       "                             clean_title_and_content  \n",
       "0  ad sales boost time warner profit quarterly pr...  \n",
       "1  dollar gains greenspan speech dollar hit highe...  \n",
       "2  yukos unit buyer faces loan claim owners embat...  "
      ]
     },
     "metadata": {},
     "output_type": "display_data"
    }
   ],
   "source": [
    "# CONCATENATE TILE AND CONTENT\n",
    "data_set[\"title_and_content\"] = data_set[\"title\"] + \" \" + data_set[\"content\"]\n",
    "# CLEAN ALL TITLE, CONTENT AND TITLE_AND_CONTENT\n",
    "clean_column(data_set,\"title\",more_stop_words)\n",
    "clean_column(data_set,\"content\",more_stop_words)\n",
    "clean_column(data_set,\"title_and_content\",more_stop_words)\n",
    "display(data_set.head(3))"
   ]
  },
  {
   "cell_type": "markdown",
   "metadata": {},
   "source": [
    "#### Only stemming"
   ]
  },
  {
   "cell_type": "code",
   "execution_count": null,
   "metadata": {},
   "outputs": [],
   "source": [
    "stem_column(data_set,\"clean_title\")\n",
    "stem_column(data_set,\"clean_content\")\n",
    "stem_column(data_set,\"clean_title_and_content\")\n",
    "display(data_set.head(3))"
   ]
  },
  {
   "cell_type": "markdown",
   "metadata": {},
   "source": [
    "#### Only lemmatization"
   ]
  },
  {
   "cell_type": "code",
   "execution_count": null,
   "metadata": {},
   "outputs": [],
   "source": [
    "lemmatize_column(data_set,\"clean_title\")\n",
    "lemmatize_column(data_set,\"clean_content\")\n",
    "lemmatize_column(data_set,\"clean_title_and_content\")\n",
    "display(data_set.head(3))"
   ]
  },
  {
   "cell_type": "markdown",
   "metadata": {},
   "source": [
    "#### Stemming and lemmatization\n",
    "\n",
    "We have already stemmed our data, so we just lemmatize them."
   ]
  },
  {
   "cell_type": "code",
   "execution_count": null,
   "metadata": {},
   "outputs": [],
   "source": [
    "lemmatize_column(data_set,\"clean_title_stems\")\n",
    "lemmatize_column(data_set,\"clean_content_stems\")\n",
    "lemmatize_column(data_set,\"clean_title_and_content_stems\")\n",
    "display(data_set.shape,data_set.head(3))"
   ]
  },
  {
   "cell_type": "markdown",
   "metadata": {},
   "source": [
    "#### Merge dataset's clean columns with train and test set"
   ]
  },
  {
   "cell_type": "code",
   "execution_count": null,
   "metadata": {},
   "outputs": [],
   "source": [
    "train_set = pd.merge(train_set, data_set,on=[\"id\",\"title\",\"content\",\"category\"])\n",
    "test_set = pd.merge(test_set, data_set,on=[\"id\",\"title\",\"content\"])\n",
    "display(train_set.shape,train_set.head(3))\n",
    "display(test_set.shape,test_set.head(3))"
   ]
  },
  {
   "cell_type": "markdown",
   "metadata": {},
   "source": [
    "### Word clouds\n",
    "\n",
    "Word clouds (also known as text clouds or tag clouds) work in a simple way: the more a specific word appears in a source of textual data (such as a speech, blog post, or database), the bigger and bolder it appears in the word cloud.\n",
    "\n",
    "Create word clouds from stemmed and lemmatized content for each category."
   ]
  },
  {
   "cell_type": "code",
   "execution_count": null,
   "metadata": {
    "scrolled": false
   },
   "outputs": [],
   "source": [
    "import matplotlib.pyplot as plt\n",
    "from wordcloud import WordCloud\n",
    "\n",
    "# my_word_cloud: CREATES A WORDCLOUD FROM A DATAFRAME'S COLUMN\n",
    "def my_word_cloud(dataframe, column_name, title = None, max_words = 1000):\n",
    "    wordcloud = WordCloud(\n",
    "        background_color = \"white\",\n",
    "        max_words = max_words,\n",
    "        max_font_size = 40,\n",
    "        scale = 3,\n",
    "        random_state = 1\n",
    "    ).generate(\" \".join(dataframe[column_name]))\n",
    "    fig = plt.figure(1, figsize=(20,20))\n",
    "    plt.axis(\"off\")\n",
    "    if title != None:\n",
    "        fig.suptitle(title, fontsize=20)\n",
    "        fig.subplots_adjust(top=2.3)\n",
    "    plt.imshow(wordcloud)\n",
    "    plt.show()\n",
    "    \n",
    "# CREATE DATAFRAMES BY CATEGORY\n",
    "business = data_set.loc[data_set[\"category\"] == \"business\"]\n",
    "entertainment = data_set.loc[data_set[\"category\"] == \"entertainment\"]\n",
    "politics = data_set.loc[data_set[\"category\"] == \"politics\"]\n",
    "sport = data_set.loc[data_set[\"category\"] == \"sport\"]\n",
    "tech = data_set.loc[data_set[\"category\"] == \"tech\"]\n",
    "# CREATE WORDCLOUDS\n",
    "my_word_cloud(business,\"clean_content_stems_lemmas\",\"Business\")\n",
    "my_word_cloud(entertainment,\"clean_content_stems_lemmas\",\"Entertainment\")\n",
    "my_word_cloud(politics,\"clean_content_stems_lemmas\",\"Politics\")\n",
    "my_word_cloud(sport,\"clean_content_stems_lemmas\",\"Sport\")\n",
    "my_word_cloud(tech,\"clean_content_stems_lemmas\",\"Tech\")"
   ]
  }
 ],
 "metadata": {
  "kernelspec": {
   "display_name": "Python 3",
   "language": "python",
   "name": "python3"
  },
  "language_info": {
   "codemirror_mode": {
    "name": "ipython",
    "version": 3
   },
   "file_extension": ".py",
   "mimetype": "text/x-python",
   "name": "python",
   "nbconvert_exporter": "python",
   "pygments_lexer": "ipython3",
   "version": "3.7.4"
  }
 },
 "nbformat": 4,
 "nbformat_minor": 2
}
